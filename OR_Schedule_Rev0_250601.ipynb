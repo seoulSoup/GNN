{
 "cells": [
  {
   "cell_type": "code",
   "execution_count": 1,
   "id": "3893f16f",
   "metadata": {},
   "outputs": [],
   "source": [
    "import cvxpy as cp\n",
    "import numpy as np\n",
    "import random"
   ]
  },
  {
   "cell_type": "code",
   "execution_count": 2,
   "id": "3b935721",
   "metadata": {},
   "outputs": [
    {
     "data": {
      "text/plain": [
       "34.53105514529036"
      ]
     },
     "execution_count": 2,
     "metadata": {},
     "output_type": "execute_result"
    }
   ],
   "source": [
    "np.random.beta(1, 5, 1).item()*50 + 20"
   ]
  },
  {
   "cell_type": "code",
   "execution_count": 3,
   "id": "6235ec82",
   "metadata": {},
   "outputs": [],
   "source": [
    "def queueGenerator(numQueue):\n",
    "    listDataEquip, listDataPcard, listDataPtime, listDataPriority = [], [], [], []\n",
    "    listEquip = ['4082', 'V93K']\n",
    "    listPcard = ['AV44', 'FF44']\n",
    "\n",
    "    for _ in range(numQueue):\n",
    "        equip = random.choices(listEquip, weights=[0.8, 0.2])\n",
    "        pcard = random.choices(listPcard, weights=[0.8, 0.2])\n",
    "        # 0~100까지\n",
    "        ptime = np.random.beta(1, 5, 1).item()*100\n",
    "        priority = random.choices(range(0, 7), weights=[0.8, 0.01, 0.01, 0.01, 0.02, 0.05, 0.1])\n",
    "        listDataEquip.append(equip)\n",
    "        listDataPcard.append(pcard)\n",
    "        listDataPtime.append(ptime)\n",
    "        listDataPriority.append(priority)\n",
    "    return listDataEquip, listDataPcard, listDataPtime, listDataPriority\n",
    "\n",
    "numQueue = int(np.random.beta(1, 5, 1).item()*50 + 30)\n",
    "listDataEquip, listDataPcard, p, priority = queueGenerator(numQueue)"
   ]
  },
  {
   "cell_type": "code",
   "execution_count": null,
   "id": "1c6acea3",
   "metadata": {},
   "outputs": [
    {
     "name": "stderr",
     "output_type": "stream",
     "text": [
      "c:\\Users\\ragna\\AppData\\Local\\Programs\\Python\\Python311\\Lib\\site-packages\\cvxpy\\reductions\\solvers\\solving_chain.py:418: UserWarning: The problem has an expression with dimension greater than 2. Defaulting to the SCIPY backend for canonicalization.\n",
      "  warnings.warn(UserWarning(\n"
     ]
    }
   ],
   "source": [
    "# Constants\n",
    "\n",
    "J = len(listDataEquip)\n",
    "M = 14\n",
    "setup_time = 0.13\n",
    "\n",
    "flagEquip = np.array([[listDataEquip[j] == listDataEquip[m] for j in range(J)] for m in range(J)])\n",
    "flagPcard = np.array([[listDataPcard[j] == listDataPcard[m] for j in range(J)] for m in range(J)])\n",
    "# Variables\n",
    "C = cp.Variable(J)\n",
    "z = cp.Variable((J, M), boolean=True)\n",
    "o = cp.Variable((J, J, M), boolean=True)\n",
    "# delta = cp.Variable((J, J, M), boolean=True)  # Indicates part mismatch when j follows i on m\n",
    "\n",
    "constraints = []\n",
    "big_M = 1000\n",
    "\n",
    "# Job assignment\n",
    "for j in range(J):\n",
    "    constraints.append(cp.sum(z[j, :]) == 1)\n",
    "    constraints.append(C[j] >= p[j])\n",
    "\n",
    "# Compatibility\n",
    "for j in range(J):\n",
    "    for m in range(M):\n",
    "        if j < M:\n",
    "            if j == m:\n",
    "                constraints.append(z[j, m] == 1)\n",
    "            for k in range(M, J):\n",
    "                constraints.append(C[j] <= C[k] + big_M * (1 - z[k, m]))\n",
    "        elif not flagEquip[j, m]:\n",
    "            constraints.append(z[j, m] == 0)\n",
    "\n",
    "# Disjunctive constraints + setup time\n",
    "for j in range(J):\n",
    "    for k in range(J):\n",
    "        if j != k:\n",
    "            for m in range(M):\n",
    "                same_machine = z[j, m] + z[k, m] - 1  # 1 if both assigned to m\n",
    "                parts_different = int(listDataPcard[j] != listDataPcard[k])\n",
    "                constraints.append(C[j] <= C[k] - p[k] - setup_time * parts_different\n",
    "                                   + big_M * (1 - o[j, k, m] + 1 - same_machine))\n",
    "\n",
    "                constraints.append(C[k] <= C[j] - p[j] - setup_time * parts_different\n",
    "                                   + big_M * (o[j, k, m] + 1 - same_machine))\n",
    "\n",
    "                constraints.append(o[j, k, m] + o[k, j, m] <= 1)\n",
    "\n",
    "# Objective: minimize total completion time\n",
    "objective = cp.Minimize(cp.max(C))\n",
    "\n",
    "# Solve\n",
    "problem = cp.Problem(objective, constraints)\n",
    "problem.solve(solver=cp.HIGHS)\n",
    "\n",
    "# Print results\n",
    "print('status: ', problem.status)\n",
    "print('value: ', problem.value)\n",
    "print(\"총 완료 시간:\", np.max(C.value))\n",
    "for j in range(J):\n",
    "    print(f\"Job {j}: Start = {C.value[j]:.2f - p[j]:.2f - (setup_time * int(listDataPcard[j] != listDataPcard[j-1]) if j != 0 else 0) }, End = {C.value[j]:.2f}, Machine = {np.argmax(z.value[j])}\")"
   ]
  },
  {
   "cell_type": "code",
   "execution_count": null,
   "id": "536f13e1",
   "metadata": {},
   "outputs": [
    {
     "name": "stdout",
     "output_type": "stream",
     "text": [
      "15.63\n",
      "32.35\n",
      "25.74\n",
      "10.63\n",
      "35.23\n",
      "23.41\n",
      "29.23\n",
      "9.10\n",
      "4.86\n",
      "13.54\n",
      "1.42\n",
      "3.29\n",
      "16.62\n",
      "0.48\n",
      "39.00\n",
      "35.23\n",
      "49.07\n",
      "53.52\n",
      "43.62\n",
      "48.63\n",
      "58.43\n",
      "80.01\n",
      "61.89\n",
      "54.91\n",
      "43.52\n",
      "49.80\n",
      "59.86\n",
      "58.68\n",
      "39.43\n",
      "81.97\n",
      "81.21\n",
      "81.97\n",
      "35.23\n",
      "59.75\n",
      "41.43\n",
      "35.23\n",
      "35.99\n",
      "35.23\n",
      "35.23\n",
      "74.69\n",
      "35.23\n",
      "72.97\n"
     ]
    }
   ],
   "source": [
    "for j in range(J):\n",
    "    print(f'{C.value[j]:.2f}')"
   ]
  },
  {
   "cell_type": "code",
   "execution_count": null,
   "id": "b8a79411",
   "metadata": {},
   "outputs": [
    {
     "ename": "ValueError",
     "evalue": "Mime type rendering requires nbformat>=4.2.0 but it is not installed",
     "output_type": "error",
     "traceback": [
      "\u001b[1;31m---------------------------------------------------------------------------\u001b[0m",
      "\u001b[1;31mValueError\u001b[0m                                Traceback (most recent call last)",
      "Cell \u001b[1;32mIn[20], line 16\u001b[0m\n\u001b[0;32m     14\u001b[0m fig \u001b[38;5;241m=\u001b[39m px\u001b[38;5;241m.\u001b[39mtimeline(df, x_start\u001b[38;5;241m=\u001b[39m\u001b[38;5;124m\"\u001b[39m\u001b[38;5;124mStart\u001b[39m\u001b[38;5;124m\"\u001b[39m, x_end\u001b[38;5;241m=\u001b[39m\u001b[38;5;124m\"\u001b[39m\u001b[38;5;124mFinish\u001b[39m\u001b[38;5;124m\"\u001b[39m, y\u001b[38;5;241m=\u001b[39m\u001b[38;5;124m\"\u001b[39m\u001b[38;5;124mMachine\u001b[39m\u001b[38;5;124m\"\u001b[39m, color\u001b[38;5;241m=\u001b[39m\u001b[38;5;124m\"\u001b[39m\u001b[38;5;124mJob\u001b[39m\u001b[38;5;124m\"\u001b[39m, title\u001b[38;5;241m=\u001b[39m\u001b[38;5;124m\"\u001b[39m\u001b[38;5;124mScheduling Gantt Chart\u001b[39m\u001b[38;5;124m\"\u001b[39m)\n\u001b[0;32m     15\u001b[0m fig\u001b[38;5;241m.\u001b[39mupdate_yaxes(autorange\u001b[38;5;241m=\u001b[39m\u001b[38;5;124m\"\u001b[39m\u001b[38;5;124mreversed\u001b[39m\u001b[38;5;124m\"\u001b[39m)  \u001b[38;5;66;03m# 위쪽에 Machine 0, 아래 Machine 1\u001b[39;00m\n\u001b[1;32m---> 16\u001b[0m \u001b[43mfig\u001b[49m\u001b[38;5;241;43m.\u001b[39;49m\u001b[43mshow\u001b[49m\u001b[43m(\u001b[49m\u001b[43m)\u001b[49m\n",
      "File \u001b[1;32mc:\\Users\\ragna\\AppData\\Local\\Programs\\Python\\Python311\\Lib\\site-packages\\plotly\\basedatatypes.py:3436\u001b[0m, in \u001b[0;36mBaseFigure.show\u001b[1;34m(self, *args, **kwargs)\u001b[0m\n\u001b[0;32m   3403\u001b[0m \u001b[38;5;250m\u001b[39m\u001b[38;5;124;03m\"\"\"\u001b[39;00m\n\u001b[0;32m   3404\u001b[0m \u001b[38;5;124;03mShow a figure using either the default renderer(s) or the renderer(s)\u001b[39;00m\n\u001b[0;32m   3405\u001b[0m \u001b[38;5;124;03mspecified by the renderer argument\u001b[39;00m\n\u001b[1;32m   (...)\u001b[0m\n\u001b[0;32m   3432\u001b[0m \u001b[38;5;124;03mNone\u001b[39;00m\n\u001b[0;32m   3433\u001b[0m \u001b[38;5;124;03m\"\"\"\u001b[39;00m\n\u001b[0;32m   3434\u001b[0m \u001b[38;5;28;01mimport\u001b[39;00m \u001b[38;5;21;01mplotly\u001b[39;00m\u001b[38;5;21;01m.\u001b[39;00m\u001b[38;5;21;01mio\u001b[39;00m \u001b[38;5;28;01mas\u001b[39;00m \u001b[38;5;21;01mpio\u001b[39;00m\n\u001b[1;32m-> 3436\u001b[0m \u001b[38;5;28;01mreturn\u001b[39;00m \u001b[43mpio\u001b[49m\u001b[38;5;241;43m.\u001b[39;49m\u001b[43mshow\u001b[49m\u001b[43m(\u001b[49m\u001b[38;5;28;43mself\u001b[39;49m\u001b[43m,\u001b[49m\u001b[43m \u001b[49m\u001b[38;5;241;43m*\u001b[39;49m\u001b[43margs\u001b[49m\u001b[43m,\u001b[49m\u001b[43m \u001b[49m\u001b[38;5;241;43m*\u001b[39;49m\u001b[38;5;241;43m*\u001b[39;49m\u001b[43mkwargs\u001b[49m\u001b[43m)\u001b[49m\n",
      "File \u001b[1;32mc:\\Users\\ragna\\AppData\\Local\\Programs\\Python\\Python311\\Lib\\site-packages\\plotly\\io\\_renderers.py:425\u001b[0m, in \u001b[0;36mshow\u001b[1;34m(fig, renderer, validate, **kwargs)\u001b[0m\n\u001b[0;32m    420\u001b[0m     \u001b[38;5;28;01mraise\u001b[39;00m \u001b[38;5;167;01mValueError\u001b[39;00m(\n\u001b[0;32m    421\u001b[0m         \u001b[38;5;124m\"\u001b[39m\u001b[38;5;124mMime type rendering requires ipython but it is not installed\u001b[39m\u001b[38;5;124m\"\u001b[39m\n\u001b[0;32m    422\u001b[0m     )\n\u001b[0;32m    424\u001b[0m \u001b[38;5;28;01mif\u001b[39;00m \u001b[38;5;129;01mnot\u001b[39;00m nbformat \u001b[38;5;129;01mor\u001b[39;00m Version(nbformat\u001b[38;5;241m.\u001b[39m__version__) \u001b[38;5;241m<\u001b[39m Version(\u001b[38;5;124m\"\u001b[39m\u001b[38;5;124m4.2.0\u001b[39m\u001b[38;5;124m\"\u001b[39m):\n\u001b[1;32m--> 425\u001b[0m     \u001b[38;5;28;01mraise\u001b[39;00m \u001b[38;5;167;01mValueError\u001b[39;00m(\n\u001b[0;32m    426\u001b[0m         \u001b[38;5;124m\"\u001b[39m\u001b[38;5;124mMime type rendering requires nbformat>=4.2.0 but it is not installed\u001b[39m\u001b[38;5;124m\"\u001b[39m\n\u001b[0;32m    427\u001b[0m     )\n\u001b[0;32m    429\u001b[0m display_jupyter_version_warnings()\n\u001b[0;32m    431\u001b[0m ipython_display\u001b[38;5;241m.\u001b[39mdisplay(bundle, raw\u001b[38;5;241m=\u001b[39m\u001b[38;5;28;01mTrue\u001b[39;00m)\n",
      "\u001b[1;31mValueError\u001b[0m: Mime type rendering requires nbformat>=4.2.0 but it is not installed"
     ]
    }
   ],
   "source": [
    "import plotly.express as px\n",
    "import pandas as pd\n",
    "\n",
    "# 결과 예시\n",
    "data = [\n",
    "    {\"Job\": \"Job 0\", \"Start\": 0.0, \"Finish\": 3.0, \"Machine\": \"Machine 0\"},\n",
    "    {\"Job\": \"Job 1\", \"Start\": 1.0, \"Finish\": 3.0, \"Machine\": \"Machine 1\"},\n",
    "    {\"Job\": \"Job 2\", \"Start\": 3.0, \"Finish\": 5.0, \"Machine\": \"Machine 0\"},\n",
    "]\n",
    "\n",
    "df = pd.DataFrame(data)\n",
    "\n",
    "# Gantt Chart 생성\n",
    "fig = px.timeline(df, x_start=\"Start\", x_end=\"Finish\", y=\"Machine\", color=\"Job\", title=\"Scheduling Gantt Chart\")\n",
    "fig.update_yaxes(autorange=\"reversed\")  # 위쪽에 Machine 0, 아래 Machine 1\n",
    "fig.show()"
   ]
  }
 ],
 "metadata": {
  "kernelspec": {
   "display_name": "Python 3",
   "language": "python",
   "name": "python3"
  },
  "language_info": {
   "codemirror_mode": {
    "name": "ipython",
    "version": 3
   },
   "file_extension": ".py",
   "mimetype": "text/x-python",
   "name": "python",
   "nbconvert_exporter": "python",
   "pygments_lexer": "ipython3",
   "version": "3.11.5"
  }
 },
 "nbformat": 4,
 "nbformat_minor": 5
}
