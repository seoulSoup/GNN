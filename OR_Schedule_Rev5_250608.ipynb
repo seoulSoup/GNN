{
 "cells": [
  {
   "cell_type": "code",
   "execution_count": 1,
   "id": "e5702c29",
   "metadata": {},
   "outputs": [],
   "source": [
    "import cvxpy as cp\n",
    "import numpy as np\n",
    "import random"
   ]
  },
  {
   "cell_type": "code",
   "execution_count": 2,
   "id": "696bc667",
   "metadata": {},
   "outputs": [],
   "source": [
    "def queueGenerator(numQueue):\n",
    "    listDataEquip, listDataPcard, listDataPtime, listDataPriority = [], [], [], []\n",
    "    listEquip = ['4082', 'V93K']\n",
    "    listPcard = ['AV44', 'FF44']\n",
    "\n",
    "    for _ in range(numQueue):\n",
    "        equip = random.choices(listEquip, weights=[0.8, 0.2])\n",
    "        pcard = random.choices(listPcard, weights=[0.8, 0.2])\n",
    "        # 0~100까지\n",
    "        ptime = np.random.beta(1, 5, 1).item()*100\n",
    "        priority = random.choices(range(0, 7), weights=[0.8, 0.01, 0.01, 0.01, 0.02, 0.05, 0.1])\n",
    "        listDataEquip.append(equip)\n",
    "        listDataPcard.append(pcard)\n",
    "        listDataPtime.append(ptime)\n",
    "        listDataPriority.append(priority)\n",
    "    return listDataEquip, listDataPcard, listDataPtime, listDataPriority\n",
    "\n",
    "numQueue = int(np.random.beta(1, 5, 1).item()*50 + 50)\n",
    "listDataEquip, matrixPcard, p, priority = queueGenerator(numQueue)"
   ]
  },
  {
   "cell_type": "code",
   "execution_count": 3,
   "id": "75f0523d",
   "metadata": {},
   "outputs": [
    {
     "data": {
      "text/plain": [
       "52"
      ]
     },
     "execution_count": 3,
     "metadata": {},
     "output_type": "execute_result"
    }
   ],
   "source": [
    "len(listDataEquip)"
   ]
  },
  {
   "cell_type": "code",
   "execution_count": 27,
   "id": "d5ebb88f",
   "metadata": {},
   "outputs": [
    {
     "name": "stdout",
     "output_type": "stream",
     "text": [
      "상태: infeasible\n",
      "평균 Start Time: inf\n"
     ]
    }
   ],
   "source": [
    "J = len(listDataEquip) # number of jobs\n",
    "M = 14 # number of machines\n",
    "r = 0.16 # release time\n",
    "BIG_M = 1000\n",
    "matrixEquip = np.array([[listDataEquip[j] == listDataEquip[m] for j in range(J)] for m in range(M)])\n",
    "s = cp.Variable(J, nonneg=True)\n",
    "z = cp.Variable((J, M), boolean=True) # 할당 여부\n",
    "o = cp.Variable((J, J), boolean=True) # 순서 결정\n",
    "\n",
    "\n",
    "# ----- 제약 조건 정의 -----\n",
    "constraints = []\n",
    "\n",
    "# 각 Job은 정확히 하나의 Machine에 할당\n",
    "for j in range(J):\n",
    "    constraints.append(cp.sum(z[j, :]) == 1)\n",
    "\n",
    "# 장비 호환성\n",
    "for j in range(J):\n",
    "    for m in range(M):\n",
    "        if not matrixEquip[m][j]:\n",
    "            constraints.append(z[j, m] == 0)  \n",
    "        if j == m:\n",
    "            constraints.append(z[j, m] == 1)\n",
    "            constraints.append(s[j] == 0)\n",
    "            # for k in range(M, J):\n",
    "            #     constraints.append(o[j, k] == 1)\n",
    "\n",
    "# 순서제약: 같은 machine에 할당된 job들만\n",
    "for i in range(J):\n",
    "    for j in range(J):\n",
    "        constraints.append(o[i, j] + o[j, i] <= 1)\n",
    "        if (i >= M) and (j >= M):\n",
    "            # 우선순위 반영 (높은 priority가 먼저)\n",
    "            if priority[i] < priority[j]:\n",
    "                constraints.append(o[j, i] == 1)\n",
    "            else:\n",
    "                constraints.append(o[i, j] == 1)\n",
    "        for m in range(M):\n",
    "            constraints.append(\n",
    "                s[j] >= s[i] + p[i] + r * (matrixPcard[i] != matrixPcard[j])\n",
    "                - BIG_M * (3 - z[i, m] - z[j, m] - o[i, j])\n",
    "            )\n",
    "            constraints.append(\n",
    "                s[i] >= s[j] + p[j] + r * (matrixPcard[i] != matrixPcard[j])\n",
    "                - BIG_M * (3 - z[i, m] - z[j, m] - o[j, i])\n",
    "            )\n",
    "            # 동일 machine에 2개의 job이 있을 경우 반드시 순서가 존재해야함\n",
    "            # constraints.append(z[i, m] + z[j, m] <= 1 + o[i, j] + o[j, i])\n",
    "        if i < j:\n",
    "            for m in range(M):\n",
    "                constraints.append(z[i, m] + z[j, m] <= 1 + o[i, j] + o[j, i])\n",
    "            \n",
    "# 우선순위 반영 (높은 priority가 먼저)\n",
    "# for i in range(M, J):\n",
    "#     for j in range(M, J):\n",
    "#         if priority[i] > priority[j]:\n",
    "#             constraints.append(o[i, j] == 1)\n",
    "#         elif priority[i] < priority[j]:\n",
    "#             constraints.append(o[j, i] == 1)\n",
    "#         elif i < j:\n",
    "#             constraints.append(o[i, j] == 1)\n",
    "\n",
    "# ----- 목적 함수: 평균 시작 시간 최소화 -----\n",
    "obj = cp.Minimize(cp.mean(s))\n",
    "\n",
    "# ----- 문제 정의 및 풀기 -----\n",
    "prob = cp.Problem(obj, constraints)\n",
    "prob.solve(solver=cp.HIGHS)\n",
    "\n",
    "# ----- 결과 출력 -----\n",
    "print('상태:', prob.status)\n",
    "print('평균 Start Time:', prob.value)"
   ]
  },
  {
   "cell_type": "code",
   "execution_count": 24,
   "id": "485f049e",
   "metadata": {},
   "outputs": [
    {
     "data": {
      "application/vnd.plotly.v1+json": {
       "config": {
        "plotlyServerURL": "https://plot.ly"
       },
       "data": [
        {
         "base": [
          0
         ],
         "hoverinfo": "text",
         "hovertext": "Job 0: 0.0 ~ 2.164921645120497 | [0]",
         "marker": {
          "color": "skyblue"
         },
         "name": "Job 0",
         "orientation": "h",
         "showlegend": false,
         "type": "bar",
         "x": [
          2.164921645120497
         ],
         "y": [
          0
         ]
        },
        {
         "base": [
          0
         ],
         "hoverinfo": "text",
         "hovertext": "Job 1: 0.0 ~ 12.152951630771561 | [0]",
         "marker": {
          "color": "skyblue"
         },
         "name": "Job 1",
         "orientation": "h",
         "showlegend": false,
         "type": "bar",
         "x": [
          12.152951630771561
         ],
         "y": [
          1
         ]
        },
        {
         "base": [
          0
         ],
         "hoverinfo": "text",
         "hovertext": "Job 2: 0.0 ~ 20.76680604064431 | [0]",
         "marker": {
          "color": "skyblue"
         },
         "name": "Job 2",
         "orientation": "h",
         "showlegend": false,
         "type": "bar",
         "x": [
          20.76680604064431
         ],
         "y": [
          6
         ]
        },
        {
         "base": [
          0
         ],
         "hoverinfo": "text",
         "hovertext": "Job 3: 0.0 ~ 10.954725784903449 | [0]",
         "marker": {
          "color": "skyblue"
         },
         "name": "Job 3",
         "orientation": "h",
         "showlegend": false,
         "type": "bar",
         "x": [
          10.954725784903449
         ],
         "y": [
          7
         ]
        },
        {
         "base": [
          0
         ],
         "hoverinfo": "text",
         "hovertext": "Job 4: 0.0 ~ 3.631414622994929 | [5]",
         "marker": {
          "color": "skyblue"
         },
         "name": "Job 4",
         "orientation": "h",
         "showlegend": false,
         "type": "bar",
         "x": [
          3.631414622994929
         ],
         "y": [
          8
         ]
        },
        {
         "base": [
          0
         ],
         "hoverinfo": "text",
         "hovertext": "Job 5: 0.0 ~ 10.703088808650927 | [0]",
         "marker": {
          "color": "skyblue"
         },
         "name": "Job 5",
         "orientation": "h",
         "showlegend": false,
         "type": "bar",
         "x": [
          10.703088808650927
         ],
         "y": [
          9
         ]
        },
        {
         "base": [
          0
         ],
         "hoverinfo": "text",
         "hovertext": "Job 6: 0.0 ~ 43.315055595119006 | [0]",
         "marker": {
          "color": "skyblue"
         },
         "name": "Job 6",
         "orientation": "h",
         "showlegend": false,
         "type": "bar",
         "x": [
          43.315055595119006
         ],
         "y": [
          10
         ]
        },
        {
         "base": [
          0
         ],
         "hoverinfo": "text",
         "hovertext": "Job 7: 0.0 ~ 18.63113110995414 | [0]",
         "marker": {
          "color": "skyblue"
         },
         "name": "Job 7",
         "orientation": "h",
         "showlegend": false,
         "type": "bar",
         "x": [
          18.63113110995414
         ],
         "y": [
          11
         ]
        },
        {
         "base": [
          0
         ],
         "hoverinfo": "text",
         "hovertext": "Job 8: 0.0 ~ 2.2672610981603216 | [0]",
         "marker": {
          "color": "skyblue"
         },
         "name": "Job 8",
         "orientation": "h",
         "showlegend": false,
         "type": "bar",
         "x": [
          2.2672610981603216
         ],
         "y": [
          12
         ]
        },
        {
         "base": [
          0
         ],
         "hoverinfo": "text",
         "hovertext": "Job 9: 0.0 ~ 10.662191087206685 | [0]",
         "marker": {
          "color": "skyblue"
         },
         "name": "Job 9",
         "orientation": "h",
         "showlegend": false,
         "type": "bar",
         "x": [
          10.662191087206685
         ],
         "y": [
          13
         ]
        },
        {
         "base": [
          0
         ],
         "hoverinfo": "text",
         "hovertext": "Job 10: 0.0 ~ 42.88640621089823 | [0]",
         "marker": {
          "color": "skyblue"
         },
         "name": "Job 10",
         "orientation": "h",
         "showlegend": false,
         "type": "bar",
         "x": [
          42.88640621089823
         ],
         "y": [
          2
         ]
        },
        {
         "base": [
          0
         ],
         "hoverinfo": "text",
         "hovertext": "Job 11: 0.0 ~ 16.654316823485456 | [4]",
         "marker": {
          "color": "skyblue"
         },
         "name": "Job 11",
         "orientation": "h",
         "showlegend": false,
         "type": "bar",
         "x": [
          16.654316823485456
         ],
         "y": [
          3
         ]
        },
        {
         "base": [
          0
         ],
         "hoverinfo": "text",
         "hovertext": "Job 12: 0.0 ~ 4.079164814977401 | [0]",
         "marker": {
          "color": "skyblue"
         },
         "name": "Job 12",
         "orientation": "h",
         "showlegend": false,
         "type": "bar",
         "x": [
          4.079164814977401
         ],
         "y": [
          4
         ]
        },
        {
         "base": [
          0
         ],
         "hoverinfo": "text",
         "hovertext": "Job 13: 0.0 ~ 10.613618536704076 | [4]",
         "marker": {
          "color": "skyblue"
         },
         "name": "Job 13",
         "orientation": "h",
         "showlegend": false,
         "type": "bar",
         "x": [
          10.613618536704076
         ],
         "y": [
          5
         ]
        },
        {
         "base": [
          2.1649216451205575
         ],
         "hoverinfo": "text",
         "hovertext": "Job 14: 2.1649216451205575 ~ 21.618581404491653 | [0]",
         "marker": {
          "color": "skyblue"
         },
         "name": "Job 14",
         "orientation": "h",
         "showlegend": false,
         "type": "bar",
         "x": [
          19.453659759371096
         ],
         "y": [
          0
         ]
        },
        {
         "base": [
          2.2672610981602155
         ],
         "hoverinfo": "text",
         "hovertext": "Setup 15: 2.2672610981602155 ~ 2.4272610981602156 | [0]",
         "marker": {
          "color": "lightcoral"
         },
         "name": "Setup 15",
         "orientation": "h",
         "showlegend": false,
         "type": "bar",
         "x": [
          0.16000000000000014
         ],
         "y": [
          12
         ]
        },
        {
         "base": [
          2.4272610981602156
         ],
         "hoverinfo": "text",
         "hovertext": "Job 15: 2.4272610981602156 ~ 23.325643924873372 | [0]",
         "marker": {
          "color": "skyblue"
         },
         "name": "Job 15",
         "orientation": "h",
         "showlegend": false,
         "type": "bar",
         "x": [
          20.898382826713156
         ],
         "y": [
          12
         ]
        },
        {
         "base": [
          2.164921645120412
         ],
         "hoverinfo": "text",
         "hovertext": "Setup 16: 2.164921645120412 ~ 2.324921645120412 | [0]",
         "marker": {
          "color": "lightcoral"
         },
         "name": "Setup 16",
         "orientation": "h",
         "showlegend": false,
         "type": "bar",
         "x": [
          0.16000000000000014
         ],
         "y": [
          0
         ]
        },
        {
         "base": [
          2.324921645120412
         ],
         "hoverinfo": "text",
         "hovertext": "Job 16: 2.324921645120412 ~ 12.120127276543439 | [0]",
         "marker": {
          "color": "skyblue"
         },
         "name": "Job 16",
         "orientation": "h",
         "showlegend": false,
         "type": "bar",
         "x": [
          9.795205631423027
         ],
         "y": [
          0
         ]
        },
        {
         "base": [
          3.6314146229947255
         ],
         "hoverinfo": "text",
         "hovertext": "Job 17: 3.6314146229947255 ~ 25.262372972576674 | [5]",
         "marker": {
          "color": "skyblue"
         },
         "name": "Job 17",
         "orientation": "h",
         "showlegend": false,
         "type": "bar",
         "x": [
          21.63095834958195
         ],
         "y": [
          8
         ]
        },
        {
         "base": [
          2.4272610981602156
         ],
         "hoverinfo": "text",
         "hovertext": "Job 18: 2.4272610981602156 ~ 6.454211376961826 | [0]",
         "marker": {
          "color": "skyblue"
         },
         "name": "Job 18",
         "orientation": "h",
         "showlegend": false,
         "type": "bar",
         "x": [
          4.0269502788016105
         ],
         "y": [
          12
         ]
        },
        {
         "base": [
          2.324921645120412
         ],
         "hoverinfo": "text",
         "hovertext": "Job 19: 2.324921645120412 ~ 15.23004331580524 | [0]",
         "marker": {
          "color": "skyblue"
         },
         "name": "Job 19",
         "orientation": "h",
         "showlegend": false,
         "type": "bar",
         "x": [
          12.905121670684828
         ],
         "y": [
          0
         ]
        },
        {
         "base": [
          2.0049216451205574
         ],
         "hoverinfo": "text",
         "hovertext": "Setup 20: 2.0049216451205574 ~ 2.1649216451205575 | [0]",
         "marker": {
          "color": "lightcoral"
         },
         "name": "Setup 20",
         "orientation": "h",
         "showlegend": false,
         "type": "bar",
         "x": [
          0.16000000000000014
         ],
         "y": [
          0
         ]
        },
        {
         "base": [
          2.1649216451205575
         ],
         "hoverinfo": "text",
         "hovertext": "Job 20: 2.1649216451205575 ~ 9.981797876490523 | [0]",
         "marker": {
          "color": "skyblue"
         },
         "name": "Job 20",
         "orientation": "h",
         "showlegend": false,
         "type": "bar",
         "x": [
          7.816876231369966
         ],
         "y": [
          0
         ]
        },
        {
         "base": [
          2.107261098160361
         ],
         "hoverinfo": "text",
         "hovertext": "Setup 21: 2.107261098160361 ~ 2.267261098160361 | [0]",
         "marker": {
          "color": "lightcoral"
         },
         "name": "Setup 21",
         "orientation": "h",
         "showlegend": false,
         "type": "bar",
         "x": [
          0.16000000000000014
         ],
         "y": [
          12
         ]
        },
        {
         "base": [
          2.267261098160361
         ],
         "hoverinfo": "text",
         "hovertext": "Job 21: 2.267261098160361 ~ 4.293278663441654 | [0]",
         "marker": {
          "color": "skyblue"
         },
         "name": "Job 21",
         "orientation": "h",
         "showlegend": false,
         "type": "bar",
         "x": [
          2.0260175652812933
         ],
         "y": [
          12
         ]
        },
        {
         "base": [
          2.1649216451205575
         ],
         "hoverinfo": "text",
         "hovertext": "Job 22: 2.1649216451205575 ~ 43.15168006971484 | [0]",
         "marker": {
          "color": "skyblue"
         },
         "name": "Job 22",
         "orientation": "h",
         "showlegend": false,
         "type": "bar",
         "x": [
          40.986758424594285
         ],
         "y": [
          0
         ]
        },
        {
         "base": [
          2.1649216451205575
         ],
         "hoverinfo": "text",
         "hovertext": "Job 23: 2.1649216451205575 ~ 5.944122688514726 | [0]",
         "marker": {
          "color": "skyblue"
         },
         "name": "Job 23",
         "orientation": "h",
         "showlegend": false,
         "type": "bar",
         "x": [
          3.7792010433941687
         ],
         "y": [
          0
         ]
        },
        {
         "base": [
          2.1649216451205575
         ],
         "hoverinfo": "text",
         "hovertext": "Job 24: 2.1649216451205575 ~ 5.915643453562135 | [0]",
         "marker": {
          "color": "skyblue"
         },
         "name": "Job 24",
         "orientation": "h",
         "showlegend": false,
         "type": "bar",
         "x": [
          3.750721808441577
         ],
         "y": [
          0
         ]
        },
        {
         "base": [
          2.1649216451205575
         ],
         "hoverinfo": "text",
         "hovertext": "Job 25: 2.1649216451205575 ~ 59.75367410929991 | [0]",
         "marker": {
          "color": "skyblue"
         },
         "name": "Job 25",
         "orientation": "h",
         "showlegend": false,
         "type": "bar",
         "x": [
          57.58875246417935
         ],
         "y": [
          0
         ]
        },
        {
         "base": [
          2.1649216451205575
         ],
         "hoverinfo": "text",
         "hovertext": "Job 26: 2.1649216451205575 ~ 29.09443717508242 | [0]",
         "marker": {
          "color": "skyblue"
         },
         "name": "Job 26",
         "orientation": "h",
         "showlegend": false,
         "type": "bar",
         "x": [
          26.92951552996186
         ],
         "y": [
          0
         ]
        },
        {
         "base": [
          2.1649216451205575
         ],
         "hoverinfo": "text",
         "hovertext": "Job 27: 2.1649216451205575 ~ 17.01612572673121 | [0]",
         "marker": {
          "color": "skyblue"
         },
         "name": "Job 27",
         "orientation": "h",
         "showlegend": false,
         "type": "bar",
         "x": [
          14.851204081610653
         ],
         "y": [
          0
         ]
        },
        {
         "base": [
          2.2672610981602155
         ],
         "hoverinfo": "text",
         "hovertext": "Setup 28: 2.2672610981602155 ~ 2.4272610981602156 | [0]",
         "marker": {
          "color": "lightcoral"
         },
         "name": "Setup 28",
         "orientation": "h",
         "showlegend": false,
         "type": "bar",
         "x": [
          0.16000000000000014
         ],
         "y": [
          12
         ]
        },
        {
         "base": [
          2.4272610981602156
         ],
         "hoverinfo": "text",
         "hovertext": "Job 28: 2.4272610981602156 ~ 7.3097639815268405 | [0]",
         "marker": {
          "color": "skyblue"
         },
         "name": "Job 28",
         "orientation": "h",
         "showlegend": false,
         "type": "bar",
         "x": [
          4.882502883366625
         ],
         "y": [
          12
         ]
        },
        {
         "base": [
          4.079164814977503
         ],
         "hoverinfo": "text",
         "hovertext": "Job 29: 4.079164814977503 ~ 14.282331810423045 | [6]",
         "marker": {
          "color": "skyblue"
         },
         "name": "Job 29",
         "orientation": "h",
         "showlegend": false,
         "type": "bar",
         "x": [
          10.203166995445542
         ],
         "y": [
          4
         ]
        },
        {
         "base": [
          2.164921645120412
         ],
         "hoverinfo": "text",
         "hovertext": "Setup 30: 2.164921645120412 ~ 2.324921645120412 | [0]",
         "marker": {
          "color": "lightcoral"
         },
         "name": "Setup 30",
         "orientation": "h",
         "showlegend": false,
         "type": "bar",
         "x": [
          0.16000000000000014
         ],
         "y": [
          0
         ]
        },
        {
         "base": [
          2.324921645120412
         ],
         "hoverinfo": "text",
         "hovertext": "Job 30: 2.324921645120412 ~ 8.479667939084795 | [0]",
         "marker": {
          "color": "skyblue"
         },
         "name": "Job 30",
         "orientation": "h",
         "showlegend": false,
         "type": "bar",
         "x": [
          6.154746293964383
         ],
         "y": [
          0
         ]
        },
        {
         "base": [
          2.4272610981602156
         ],
         "hoverinfo": "text",
         "hovertext": "Job 31: 2.4272610981602156 ~ 15.916265638275231 | [0]",
         "marker": {
          "color": "skyblue"
         },
         "name": "Job 31",
         "orientation": "h",
         "showlegend": false,
         "type": "bar",
         "x": [
          13.489004540115015
         ],
         "y": [
          12
         ]
        },
        {
         "base": [
          2.324921645120412
         ],
         "hoverinfo": "text",
         "hovertext": "Job 32: 2.324921645120412 ~ 7.97888143290192 | [0]",
         "marker": {
          "color": "skyblue"
         },
         "name": "Job 32",
         "orientation": "h",
         "showlegend": false,
         "type": "bar",
         "x": [
          5.653959787781508
         ],
         "y": [
          0
         ]
        },
        {
         "base": [
          2.0049216451205574
         ],
         "hoverinfo": "text",
         "hovertext": "Setup 33: 2.0049216451205574 ~ 2.1649216451205575 | [0]",
         "marker": {
          "color": "lightcoral"
         },
         "name": "Setup 33",
         "orientation": "h",
         "showlegend": false,
         "type": "bar",
         "x": [
          0.16000000000000014
         ],
         "y": [
          0
         ]
        },
        {
         "base": [
          2.1649216451205575
         ],
         "hoverinfo": "text",
         "hovertext": "Job 33: 2.1649216451205575 ~ 14.757526654162731 | [0]",
         "marker": {
          "color": "skyblue"
         },
         "name": "Job 33",
         "orientation": "h",
         "showlegend": false,
         "type": "bar",
         "x": [
          12.592605009042174
         ],
         "y": [
          0
         ]
        },
        {
         "base": [
          10.613618536704053
         ],
         "hoverinfo": "text",
         "hovertext": "Job 34: 10.613618536704053 ~ 37.50888805146501 | [6]",
         "marker": {
          "color": "skyblue"
         },
         "name": "Job 34",
         "orientation": "h",
         "showlegend": false,
         "type": "bar",
         "x": [
          26.895269514760955
         ],
         "y": [
          5
         ]
        },
        {
         "base": [
          2.1649216451205575
         ],
         "hoverinfo": "text",
         "hovertext": "Job 35: 2.1649216451205575 ~ 30.647265884530416 | [0]",
         "marker": {
          "color": "skyblue"
         },
         "name": "Job 35",
         "orientation": "h",
         "showlegend": false,
         "type": "bar",
         "x": [
          28.48234423940986
         ],
         "y": [
          0
         ]
        },
        {
         "base": [
          2.1649216451205575
         ],
         "hoverinfo": "text",
         "hovertext": "Job 36: 2.1649216451205575 ~ 25.83932724567576 | [0]",
         "marker": {
          "color": "skyblue"
         },
         "name": "Job 36",
         "orientation": "h",
         "showlegend": false,
         "type": "bar",
         "x": [
          23.674405600555204
         ],
         "y": [
          0
         ]
        },
        {
         "base": [
          2.107261098160361
         ],
         "hoverinfo": "text",
         "hovertext": "Setup 37: 2.107261098160361 ~ 2.267261098160361 | [0]",
         "marker": {
          "color": "lightcoral"
         },
         "name": "Setup 37",
         "orientation": "h",
         "showlegend": false,
         "type": "bar",
         "x": [
          0.16000000000000014
         ],
         "y": [
          12
         ]
        },
        {
         "base": [
          2.267261098160361
         ],
         "hoverinfo": "text",
         "hovertext": "Job 37: 2.267261098160361 ~ 14.197427287804084 | [0]",
         "marker": {
          "color": "skyblue"
         },
         "name": "Job 37",
         "orientation": "h",
         "showlegend": false,
         "type": "bar",
         "x": [
          11.930166189643723
         ],
         "y": [
          12
         ]
        },
        {
         "base": [
          2.164921645120412
         ],
         "hoverinfo": "text",
         "hovertext": "Setup 38: 2.164921645120412 ~ 2.324921645120412 | [0]",
         "marker": {
          "color": "lightcoral"
         },
         "name": "Setup 38",
         "orientation": "h",
         "showlegend": false,
         "type": "bar",
         "x": [
          0.16000000000000014
         ],
         "y": [
          0
         ]
        },
        {
         "base": [
          2.324921645120412
         ],
         "hoverinfo": "text",
         "hovertext": "Job 38: 2.324921645120412 ~ 38.97142325545162 | [0]",
         "marker": {
          "color": "skyblue"
         },
         "name": "Job 38",
         "orientation": "h",
         "showlegend": false,
         "type": "bar",
         "x": [
          36.64650161033121
         ],
         "y": [
          0
         ]
        },
        {
         "base": [
          2.0049216451205574
         ],
         "hoverinfo": "text",
         "hovertext": "Setup 39: 2.0049216451205574 ~ 2.1649216451205575 | [0]",
         "marker": {
          "color": "lightcoral"
         },
         "name": "Setup 39",
         "orientation": "h",
         "showlegend": false,
         "type": "bar",
         "x": [
          0.16000000000000014
         ],
         "y": [
          0
         ]
        },
        {
         "base": [
          2.1649216451205575
         ],
         "hoverinfo": "text",
         "hovertext": "Job 39: 2.1649216451205575 ~ 8.289247944789158 | [0]",
         "marker": {
          "color": "skyblue"
         },
         "name": "Job 39",
         "orientation": "h",
         "showlegend": false,
         "type": "bar",
         "x": [
          6.124326299668601
         ],
         "y": [
          0
         ]
        },
        {
         "base": [
          2.1649216451205575
         ],
         "hoverinfo": "text",
         "hovertext": "Job 40: 2.1649216451205575 ~ 4.589355184271366 | [0]",
         "marker": {
          "color": "skyblue"
         },
         "name": "Job 40",
         "orientation": "h",
         "showlegend": false,
         "type": "bar",
         "x": [
          2.424433539150808
         ],
         "y": [
          0
         ]
        },
        {
         "base": [
          3.6314146229947255
         ],
         "hoverinfo": "text",
         "hovertext": "Job 41: 3.6314146229947255 ~ 15.087621003479807 | [5]",
         "marker": {
          "color": "skyblue"
         },
         "name": "Job 41",
         "orientation": "h",
         "showlegend": false,
         "type": "bar",
         "x": [
          11.456206380485082
         ],
         "y": [
          8
         ]
        },
        {
         "base": [
          2.2672610981602155
         ],
         "hoverinfo": "text",
         "hovertext": "Setup 42: 2.2672610981602155 ~ 2.4272610981602156 | [0]",
         "marker": {
          "color": "lightcoral"
         },
         "name": "Setup 42",
         "orientation": "h",
         "showlegend": false,
         "type": "bar",
         "x": [
          0.16000000000000014
         ],
         "y": [
          12
         ]
        },
        {
         "base": [
          2.4272610981602156
         ],
         "hoverinfo": "text",
         "hovertext": "Job 42: 2.4272610981602156 ~ 50.118829075606676 | [0]",
         "marker": {
          "color": "skyblue"
         },
         "name": "Job 42",
         "orientation": "h",
         "showlegend": false,
         "type": "bar",
         "x": [
          47.69156797744646
         ],
         "y": [
          12
         ]
        },
        {
         "base": [
          2.1649216451205575
         ],
         "hoverinfo": "text",
         "hovertext": "Job 43: 2.1649216451205575 ~ 12.110890410841865 | [0]",
         "marker": {
          "color": "skyblue"
         },
         "name": "Job 43",
         "orientation": "h",
         "showlegend": false,
         "type": "bar",
         "x": [
          9.945968765721307
         ],
         "y": [
          0
         ]
        },
        {
         "base": [
          2.1649216451205575
         ],
         "hoverinfo": "text",
         "hovertext": "Job 44: 2.1649216451205575 ~ 9.32209739334927 | [0]",
         "marker": {
          "color": "skyblue"
         },
         "name": "Job 44",
         "orientation": "h",
         "showlegend": false,
         "type": "bar",
         "x": [
          7.157175748228713
         ],
         "y": [
          0
         ]
        },
        {
         "base": [
          2.1649216451205575
         ],
         "hoverinfo": "text",
         "hovertext": "Job 45: 2.1649216451205575 ~ 39.45820317350276 | [0]",
         "marker": {
          "color": "skyblue"
         },
         "name": "Job 45",
         "orientation": "h",
         "showlegend": false,
         "type": "bar",
         "x": [
          37.2932815283822
         ],
         "y": [
          0
         ]
        },
        {
         "base": [
          2.1649216451205575
         ],
         "hoverinfo": "text",
         "hovertext": "Job 46: 2.1649216451205575 ~ 42.05478563207925 | [0]",
         "marker": {
          "color": "skyblue"
         },
         "name": "Job 46",
         "orientation": "h",
         "showlegend": false,
         "type": "bar",
         "x": [
          39.889863986958694
         ],
         "y": [
          0
         ]
        },
        {
         "base": [
          2.164921645120412
         ],
         "hoverinfo": "text",
         "hovertext": "Setup 47: 2.164921645120412 ~ 2.324921645120412 | [0]",
         "marker": {
          "color": "lightcoral"
         },
         "name": "Setup 47",
         "orientation": "h",
         "showlegend": false,
         "type": "bar",
         "x": [
          0.16000000000000014
         ],
         "y": [
          0
         ]
        },
        {
         "base": [
          2.324921645120412
         ],
         "hoverinfo": "text",
         "hovertext": "Job 47: 2.324921645120412 ~ 10.846719074473041 | [0]",
         "marker": {
          "color": "skyblue"
         },
         "name": "Job 47",
         "orientation": "h",
         "showlegend": false,
         "type": "bar",
         "x": [
          8.52179742935263
         ],
         "y": [
          0
         ]
        },
        {
         "base": [
          2.107261098160361
         ],
         "hoverinfo": "text",
         "hovertext": "Setup 48: 2.107261098160361 ~ 2.267261098160361 | [0]",
         "marker": {
          "color": "lightcoral"
         },
         "name": "Setup 48",
         "orientation": "h",
         "showlegend": false,
         "type": "bar",
         "x": [
          0.16000000000000014
         ],
         "y": [
          12
         ]
        },
        {
         "base": [
          2.267261098160361
         ],
         "hoverinfo": "text",
         "hovertext": "Job 48: 2.267261098160361 ~ 26.194789349171256 | [0]",
         "marker": {
          "color": "skyblue"
         },
         "name": "Job 48",
         "orientation": "h",
         "showlegend": false,
         "type": "bar",
         "x": [
          23.927528251010894
         ],
         "y": [
          12
         ]
        },
        {
         "base": [
          2.0049216451205574
         ],
         "hoverinfo": "text",
         "hovertext": "Setup 49: 2.0049216451205574 ~ 2.1649216451205575 | [0]",
         "marker": {
          "color": "lightcoral"
         },
         "name": "Setup 49",
         "orientation": "h",
         "showlegend": false,
         "type": "bar",
         "x": [
          0.16000000000000014
         ],
         "y": [
          0
         ]
        },
        {
         "base": [
          2.1649216451205575
         ],
         "hoverinfo": "text",
         "hovertext": "Job 49: 2.1649216451205575 ~ 6.800918528151903 | [0]",
         "marker": {
          "color": "skyblue"
         },
         "name": "Job 49",
         "orientation": "h",
         "showlegend": false,
         "type": "bar",
         "x": [
          4.635996883031345
         ],
         "y": [
          0
         ]
        },
        {
         "base": [
          2.1649216451205575
         ],
         "hoverinfo": "text",
         "hovertext": "Job 50: 2.1649216451205575 ~ 10.57074251747919 | [0]",
         "marker": {
          "color": "skyblue"
         },
         "name": "Job 50",
         "orientation": "h",
         "showlegend": false,
         "type": "bar",
         "x": [
          8.405820872358632
         ],
         "y": [
          0
         ]
        },
        {
         "base": [
          2.1649216451205575
         ],
         "hoverinfo": "text",
         "hovertext": "Job 51: 2.1649216451205575 ~ 10.838190175583033 | [0]",
         "marker": {
          "color": "skyblue"
         },
         "name": "Job 51",
         "orientation": "h",
         "showlegend": false,
         "type": "bar",
         "x": [
          8.673268530462476
         ],
         "y": [
          0
         ]
        }
       ],
       "layout": {
        "barmode": "stack",
        "height": 1000,
        "template": {
         "data": {
          "bar": [
           {
            "error_x": {
             "color": "#2a3f5f"
            },
            "error_y": {
             "color": "#2a3f5f"
            },
            "marker": {
             "line": {
              "color": "#E5ECF6",
              "width": 0.5
             },
             "pattern": {
              "fillmode": "overlay",
              "size": 10,
              "solidity": 0.2
             }
            },
            "type": "bar"
           }
          ],
          "barpolar": [
           {
            "marker": {
             "line": {
              "color": "#E5ECF6",
              "width": 0.5
             },
             "pattern": {
              "fillmode": "overlay",
              "size": 10,
              "solidity": 0.2
             }
            },
            "type": "barpolar"
           }
          ],
          "carpet": [
           {
            "aaxis": {
             "endlinecolor": "#2a3f5f",
             "gridcolor": "white",
             "linecolor": "white",
             "minorgridcolor": "white",
             "startlinecolor": "#2a3f5f"
            },
            "baxis": {
             "endlinecolor": "#2a3f5f",
             "gridcolor": "white",
             "linecolor": "white",
             "minorgridcolor": "white",
             "startlinecolor": "#2a3f5f"
            },
            "type": "carpet"
           }
          ],
          "choropleth": [
           {
            "colorbar": {
             "outlinewidth": 0,
             "ticks": ""
            },
            "type": "choropleth"
           }
          ],
          "contour": [
           {
            "colorbar": {
             "outlinewidth": 0,
             "ticks": ""
            },
            "colorscale": [
             [
              0,
              "#0d0887"
             ],
             [
              0.1111111111111111,
              "#46039f"
             ],
             [
              0.2222222222222222,
              "#7201a8"
             ],
             [
              0.3333333333333333,
              "#9c179e"
             ],
             [
              0.4444444444444444,
              "#bd3786"
             ],
             [
              0.5555555555555556,
              "#d8576b"
             ],
             [
              0.6666666666666666,
              "#ed7953"
             ],
             [
              0.7777777777777778,
              "#fb9f3a"
             ],
             [
              0.8888888888888888,
              "#fdca26"
             ],
             [
              1,
              "#f0f921"
             ]
            ],
            "type": "contour"
           }
          ],
          "contourcarpet": [
           {
            "colorbar": {
             "outlinewidth": 0,
             "ticks": ""
            },
            "type": "contourcarpet"
           }
          ],
          "heatmap": [
           {
            "colorbar": {
             "outlinewidth": 0,
             "ticks": ""
            },
            "colorscale": [
             [
              0,
              "#0d0887"
             ],
             [
              0.1111111111111111,
              "#46039f"
             ],
             [
              0.2222222222222222,
              "#7201a8"
             ],
             [
              0.3333333333333333,
              "#9c179e"
             ],
             [
              0.4444444444444444,
              "#bd3786"
             ],
             [
              0.5555555555555556,
              "#d8576b"
             ],
             [
              0.6666666666666666,
              "#ed7953"
             ],
             [
              0.7777777777777778,
              "#fb9f3a"
             ],
             [
              0.8888888888888888,
              "#fdca26"
             ],
             [
              1,
              "#f0f921"
             ]
            ],
            "type": "heatmap"
           }
          ],
          "histogram": [
           {
            "marker": {
             "pattern": {
              "fillmode": "overlay",
              "size": 10,
              "solidity": 0.2
             }
            },
            "type": "histogram"
           }
          ],
          "histogram2d": [
           {
            "colorbar": {
             "outlinewidth": 0,
             "ticks": ""
            },
            "colorscale": [
             [
              0,
              "#0d0887"
             ],
             [
              0.1111111111111111,
              "#46039f"
             ],
             [
              0.2222222222222222,
              "#7201a8"
             ],
             [
              0.3333333333333333,
              "#9c179e"
             ],
             [
              0.4444444444444444,
              "#bd3786"
             ],
             [
              0.5555555555555556,
              "#d8576b"
             ],
             [
              0.6666666666666666,
              "#ed7953"
             ],
             [
              0.7777777777777778,
              "#fb9f3a"
             ],
             [
              0.8888888888888888,
              "#fdca26"
             ],
             [
              1,
              "#f0f921"
             ]
            ],
            "type": "histogram2d"
           }
          ],
          "histogram2dcontour": [
           {
            "colorbar": {
             "outlinewidth": 0,
             "ticks": ""
            },
            "colorscale": [
             [
              0,
              "#0d0887"
             ],
             [
              0.1111111111111111,
              "#46039f"
             ],
             [
              0.2222222222222222,
              "#7201a8"
             ],
             [
              0.3333333333333333,
              "#9c179e"
             ],
             [
              0.4444444444444444,
              "#bd3786"
             ],
             [
              0.5555555555555556,
              "#d8576b"
             ],
             [
              0.6666666666666666,
              "#ed7953"
             ],
             [
              0.7777777777777778,
              "#fb9f3a"
             ],
             [
              0.8888888888888888,
              "#fdca26"
             ],
             [
              1,
              "#f0f921"
             ]
            ],
            "type": "histogram2dcontour"
           }
          ],
          "mesh3d": [
           {
            "colorbar": {
             "outlinewidth": 0,
             "ticks": ""
            },
            "type": "mesh3d"
           }
          ],
          "parcoords": [
           {
            "line": {
             "colorbar": {
              "outlinewidth": 0,
              "ticks": ""
             }
            },
            "type": "parcoords"
           }
          ],
          "pie": [
           {
            "automargin": true,
            "type": "pie"
           }
          ],
          "scatter": [
           {
            "fillpattern": {
             "fillmode": "overlay",
             "size": 10,
             "solidity": 0.2
            },
            "type": "scatter"
           }
          ],
          "scatter3d": [
           {
            "line": {
             "colorbar": {
              "outlinewidth": 0,
              "ticks": ""
             }
            },
            "marker": {
             "colorbar": {
              "outlinewidth": 0,
              "ticks": ""
             }
            },
            "type": "scatter3d"
           }
          ],
          "scattercarpet": [
           {
            "marker": {
             "colorbar": {
              "outlinewidth": 0,
              "ticks": ""
             }
            },
            "type": "scattercarpet"
           }
          ],
          "scattergeo": [
           {
            "marker": {
             "colorbar": {
              "outlinewidth": 0,
              "ticks": ""
             }
            },
            "type": "scattergeo"
           }
          ],
          "scattergl": [
           {
            "marker": {
             "colorbar": {
              "outlinewidth": 0,
              "ticks": ""
             }
            },
            "type": "scattergl"
           }
          ],
          "scattermap": [
           {
            "marker": {
             "colorbar": {
              "outlinewidth": 0,
              "ticks": ""
             }
            },
            "type": "scattermap"
           }
          ],
          "scattermapbox": [
           {
            "marker": {
             "colorbar": {
              "outlinewidth": 0,
              "ticks": ""
             }
            },
            "type": "scattermapbox"
           }
          ],
          "scatterpolar": [
           {
            "marker": {
             "colorbar": {
              "outlinewidth": 0,
              "ticks": ""
             }
            },
            "type": "scatterpolar"
           }
          ],
          "scatterpolargl": [
           {
            "marker": {
             "colorbar": {
              "outlinewidth": 0,
              "ticks": ""
             }
            },
            "type": "scatterpolargl"
           }
          ],
          "scatterternary": [
           {
            "marker": {
             "colorbar": {
              "outlinewidth": 0,
              "ticks": ""
             }
            },
            "type": "scatterternary"
           }
          ],
          "surface": [
           {
            "colorbar": {
             "outlinewidth": 0,
             "ticks": ""
            },
            "colorscale": [
             [
              0,
              "#0d0887"
             ],
             [
              0.1111111111111111,
              "#46039f"
             ],
             [
              0.2222222222222222,
              "#7201a8"
             ],
             [
              0.3333333333333333,
              "#9c179e"
             ],
             [
              0.4444444444444444,
              "#bd3786"
             ],
             [
              0.5555555555555556,
              "#d8576b"
             ],
             [
              0.6666666666666666,
              "#ed7953"
             ],
             [
              0.7777777777777778,
              "#fb9f3a"
             ],
             [
              0.8888888888888888,
              "#fdca26"
             ],
             [
              1,
              "#f0f921"
             ]
            ],
            "type": "surface"
           }
          ],
          "table": [
           {
            "cells": {
             "fill": {
              "color": "#EBF0F8"
             },
             "line": {
              "color": "white"
             }
            },
            "header": {
             "fill": {
              "color": "#C8D4E3"
             },
             "line": {
              "color": "white"
             }
            },
            "type": "table"
           }
          ]
         },
         "layout": {
          "annotationdefaults": {
           "arrowcolor": "#2a3f5f",
           "arrowhead": 0,
           "arrowwidth": 1
          },
          "autotypenumbers": "strict",
          "coloraxis": {
           "colorbar": {
            "outlinewidth": 0,
            "ticks": ""
           }
          },
          "colorscale": {
           "diverging": [
            [
             0,
             "#8e0152"
            ],
            [
             0.1,
             "#c51b7d"
            ],
            [
             0.2,
             "#de77ae"
            ],
            [
             0.3,
             "#f1b6da"
            ],
            [
             0.4,
             "#fde0ef"
            ],
            [
             0.5,
             "#f7f7f7"
            ],
            [
             0.6,
             "#e6f5d0"
            ],
            [
             0.7,
             "#b8e186"
            ],
            [
             0.8,
             "#7fbc41"
            ],
            [
             0.9,
             "#4d9221"
            ],
            [
             1,
             "#276419"
            ]
           ],
           "sequential": [
            [
             0,
             "#0d0887"
            ],
            [
             0.1111111111111111,
             "#46039f"
            ],
            [
             0.2222222222222222,
             "#7201a8"
            ],
            [
             0.3333333333333333,
             "#9c179e"
            ],
            [
             0.4444444444444444,
             "#bd3786"
            ],
            [
             0.5555555555555556,
             "#d8576b"
            ],
            [
             0.6666666666666666,
             "#ed7953"
            ],
            [
             0.7777777777777778,
             "#fb9f3a"
            ],
            [
             0.8888888888888888,
             "#fdca26"
            ],
            [
             1,
             "#f0f921"
            ]
           ],
           "sequentialminus": [
            [
             0,
             "#0d0887"
            ],
            [
             0.1111111111111111,
             "#46039f"
            ],
            [
             0.2222222222222222,
             "#7201a8"
            ],
            [
             0.3333333333333333,
             "#9c179e"
            ],
            [
             0.4444444444444444,
             "#bd3786"
            ],
            [
             0.5555555555555556,
             "#d8576b"
            ],
            [
             0.6666666666666666,
             "#ed7953"
            ],
            [
             0.7777777777777778,
             "#fb9f3a"
            ],
            [
             0.8888888888888888,
             "#fdca26"
            ],
            [
             1,
             "#f0f921"
            ]
           ]
          },
          "colorway": [
           "#636efa",
           "#EF553B",
           "#00cc96",
           "#ab63fa",
           "#FFA15A",
           "#19d3f3",
           "#FF6692",
           "#B6E880",
           "#FF97FF",
           "#FECB52"
          ],
          "font": {
           "color": "#2a3f5f"
          },
          "geo": {
           "bgcolor": "white",
           "lakecolor": "white",
           "landcolor": "#E5ECF6",
           "showlakes": true,
           "showland": true,
           "subunitcolor": "white"
          },
          "hoverlabel": {
           "align": "left"
          },
          "hovermode": "closest",
          "mapbox": {
           "style": "light"
          },
          "paper_bgcolor": "white",
          "plot_bgcolor": "#E5ECF6",
          "polar": {
           "angularaxis": {
            "gridcolor": "white",
            "linecolor": "white",
            "ticks": ""
           },
           "bgcolor": "#E5ECF6",
           "radialaxis": {
            "gridcolor": "white",
            "linecolor": "white",
            "ticks": ""
           }
          },
          "scene": {
           "xaxis": {
            "backgroundcolor": "#E5ECF6",
            "gridcolor": "white",
            "gridwidth": 2,
            "linecolor": "white",
            "showbackground": true,
            "ticks": "",
            "zerolinecolor": "white"
           },
           "yaxis": {
            "backgroundcolor": "#E5ECF6",
            "gridcolor": "white",
            "gridwidth": 2,
            "linecolor": "white",
            "showbackground": true,
            "ticks": "",
            "zerolinecolor": "white"
           },
           "zaxis": {
            "backgroundcolor": "#E5ECF6",
            "gridcolor": "white",
            "gridwidth": 2,
            "linecolor": "white",
            "showbackground": true,
            "ticks": "",
            "zerolinecolor": "white"
           }
          },
          "shapedefaults": {
           "line": {
            "color": "#2a3f5f"
           }
          },
          "ternary": {
           "aaxis": {
            "gridcolor": "white",
            "linecolor": "white",
            "ticks": ""
           },
           "baxis": {
            "gridcolor": "white",
            "linecolor": "white",
            "ticks": ""
           },
           "bgcolor": "#E5ECF6",
           "caxis": {
            "gridcolor": "white",
            "linecolor": "white",
            "ticks": ""
           }
          },
          "title": {
           "x": 0.05
          },
          "xaxis": {
           "automargin": true,
           "gridcolor": "white",
           "linecolor": "white",
           "ticks": "",
           "title": {
            "standoff": 15
           },
           "zerolinecolor": "white",
           "zerolinewidth": 2
          },
          "yaxis": {
           "automargin": true,
           "gridcolor": "white",
           "linecolor": "white",
           "ticks": "",
           "title": {
            "standoff": 15
           },
           "zerolinecolor": "white",
           "zerolinewidth": 2
          }
         }
        },
        "title": {
         "text": "Gantt Chart (with numeric x-axis using Plotly)"
        },
        "xaxis": {
         "title": {
          "text": "Time (unit)"
         },
         "type": "linear"
        },
        "yaxis": {
         "autorange": "reversed",
         "ticktext": [
          "Machine 0",
          "Machine 1",
          "Machine 10",
          "Machine 11",
          "Machine 12",
          "Machine 13",
          "Machine 2",
          "Machine 3",
          "Machine 4",
          "Machine 5",
          "Machine 6",
          "Machine 7",
          "Machine 8",
          "Machine 9"
         ],
         "tickvals": [
          0,
          1,
          2,
          3,
          4,
          5,
          6,
          7,
          8,
          9,
          10,
          11,
          12,
          13
         ],
         "title": {
          "text": "Machine"
         }
        }
       }
      }
     },
     "metadata": {},
     "output_type": "display_data"
    }
   ],
   "source": [
    "import plotly.express as px\n",
    "import plotly.graph_objects as go\n",
    "import pandas as pd\n",
    "\n",
    "ganttData = []\n",
    "for j in range(J):\n",
    "    idxMachine = int(np.argmax(z.value[j], axis=0))\n",
    "    \n",
    "    # 직전 할당된 job과 pcard 차이가 있는지 확인인\n",
    "    if (j >= M): \n",
    "        arrayZ = z[:, idxMachine].value\n",
    "        idxBeforeJob = np.where(arrayZ[:j])[0][-1]\n",
    "        if (matrixPcard[idxBeforeJob] != matrixPcard[j]):\n",
    "            ganttData.append({\n",
    "            'Job': f'Setup {j}',\n",
    "            'Priority': priority[j],\n",
    "            'Start': float(s.value[j] - r),\n",
    "            'End': float(s.value[j]),\n",
    "            'Machine': f'Machine {idxMachine}'\n",
    "        })\n",
    "    ganttData.append({\n",
    "        'Job': f'Job {j}',\n",
    "        'Priority': priority[j],\n",
    "        'Start': float(s.value[j]),\n",
    "        'End': float(s.value[j] + p[j]),\n",
    "        'Machine': f'Machine {idxMachine}'\n",
    "    })\n",
    "dfGantt = pd.DataFrame(ganttData)\n",
    "\n",
    "machine_list = sorted(dfGantt['Machine'].unique())\n",
    "machine_to_y = {machine: idx for idx, machine in enumerate(machine_list)}\n",
    "\n",
    "# Plotly 그래프 객체 초기화\n",
    "fig = go.Figure()\n",
    "\n",
    "# 각 작업/Setup을 개별 막대로 그림\n",
    "for _, row in dfGantt.iterrows():\n",
    "    fig.add_trace(go.Bar(\n",
    "        x=[row['End'] - row['Start']],\n",
    "        y=[machine_to_y[row['Machine']]],\n",
    "        base=[row['Start']],\n",
    "        orientation='h',\n",
    "        name=row['Job'],\n",
    "        hovertext=f\"{row['Job']}: {row['Start']} ~ {row['End']} | {row['Priority']}\",\n",
    "        hoverinfo='text',\n",
    "        marker_color='lightcoral' if 'Setup' in row['Job'] else 'skyblue',\n",
    "        showlegend=False\n",
    "    ))\n",
    "\n",
    "# y축 설정\n",
    "fig.update_yaxes(\n",
    "    tickvals=list(machine_to_y.values()),\n",
    "    ticktext=list(machine_to_y.keys()),\n",
    "    title='Machine',\n",
    "    autorange='reversed'\n",
    ")\n",
    "\n",
    "# x축 수치형으로 설정\n",
    "fig.update_xaxes(title='Time (unit)', type='linear')\n",
    "\n",
    "# 기타 레이아웃\n",
    "fig.update_layout(\n",
    "    title='Gantt Chart (with numeric x-axis using Plotly)',\n",
    "    barmode='stack',\n",
    "    height=300 + 50 * len(machine_to_y)\n",
    ")\n",
    "\n",
    "fig.show()"
   ]
  },
  {
   "cell_type": "code",
   "execution_count": 25,
   "id": "b3895a4d",
   "metadata": {},
   "outputs": [
    {
     "data": {
      "text/html": [
       "<div>\n",
       "<style scoped>\n",
       "    .dataframe tbody tr th:only-of-type {\n",
       "        vertical-align: middle;\n",
       "    }\n",
       "\n",
       "    .dataframe tbody tr th {\n",
       "        vertical-align: top;\n",
       "    }\n",
       "\n",
       "    .dataframe thead th {\n",
       "        text-align: right;\n",
       "    }\n",
       "</style>\n",
       "<table border=\"1\" class=\"dataframe\">\n",
       "  <thead>\n",
       "    <tr style=\"text-align: right;\">\n",
       "      <th></th>\n",
       "      <th>Job</th>\n",
       "      <th>Priority</th>\n",
       "      <th>Start</th>\n",
       "      <th>End</th>\n",
       "      <th>Machine</th>\n",
       "    </tr>\n",
       "  </thead>\n",
       "  <tbody>\n",
       "    <tr>\n",
       "      <th>0</th>\n",
       "      <td>Job 0</td>\n",
       "      <td>[0]</td>\n",
       "      <td>0.000000</td>\n",
       "      <td>2.164922</td>\n",
       "      <td>Machine 0</td>\n",
       "    </tr>\n",
       "    <tr>\n",
       "      <th>1</th>\n",
       "      <td>Job 1</td>\n",
       "      <td>[0]</td>\n",
       "      <td>0.000000</td>\n",
       "      <td>12.152952</td>\n",
       "      <td>Machine 1</td>\n",
       "    </tr>\n",
       "    <tr>\n",
       "      <th>2</th>\n",
       "      <td>Job 2</td>\n",
       "      <td>[0]</td>\n",
       "      <td>0.000000</td>\n",
       "      <td>20.766806</td>\n",
       "      <td>Machine 2</td>\n",
       "    </tr>\n",
       "    <tr>\n",
       "      <th>3</th>\n",
       "      <td>Job 3</td>\n",
       "      <td>[0]</td>\n",
       "      <td>0.000000</td>\n",
       "      <td>10.954726</td>\n",
       "      <td>Machine 3</td>\n",
       "    </tr>\n",
       "    <tr>\n",
       "      <th>4</th>\n",
       "      <td>Job 4</td>\n",
       "      <td>[5]</td>\n",
       "      <td>0.000000</td>\n",
       "      <td>3.631415</td>\n",
       "      <td>Machine 4</td>\n",
       "    </tr>\n",
       "    <tr>\n",
       "      <th>5</th>\n",
       "      <td>Job 5</td>\n",
       "      <td>[0]</td>\n",
       "      <td>0.000000</td>\n",
       "      <td>10.703089</td>\n",
       "      <td>Machine 5</td>\n",
       "    </tr>\n",
       "    <tr>\n",
       "      <th>6</th>\n",
       "      <td>Job 6</td>\n",
       "      <td>[0]</td>\n",
       "      <td>0.000000</td>\n",
       "      <td>43.315056</td>\n",
       "      <td>Machine 6</td>\n",
       "    </tr>\n",
       "    <tr>\n",
       "      <th>7</th>\n",
       "      <td>Job 7</td>\n",
       "      <td>[0]</td>\n",
       "      <td>0.000000</td>\n",
       "      <td>18.631131</td>\n",
       "      <td>Machine 7</td>\n",
       "    </tr>\n",
       "    <tr>\n",
       "      <th>8</th>\n",
       "      <td>Job 8</td>\n",
       "      <td>[0]</td>\n",
       "      <td>0.000000</td>\n",
       "      <td>2.267261</td>\n",
       "      <td>Machine 8</td>\n",
       "    </tr>\n",
       "    <tr>\n",
       "      <th>9</th>\n",
       "      <td>Job 9</td>\n",
       "      <td>[0]</td>\n",
       "      <td>0.000000</td>\n",
       "      <td>10.662191</td>\n",
       "      <td>Machine 9</td>\n",
       "    </tr>\n",
       "    <tr>\n",
       "      <th>10</th>\n",
       "      <td>Job 10</td>\n",
       "      <td>[0]</td>\n",
       "      <td>0.000000</td>\n",
       "      <td>42.886406</td>\n",
       "      <td>Machine 10</td>\n",
       "    </tr>\n",
       "    <tr>\n",
       "      <th>11</th>\n",
       "      <td>Job 11</td>\n",
       "      <td>[4]</td>\n",
       "      <td>0.000000</td>\n",
       "      <td>16.654317</td>\n",
       "      <td>Machine 11</td>\n",
       "    </tr>\n",
       "    <tr>\n",
       "      <th>12</th>\n",
       "      <td>Job 12</td>\n",
       "      <td>[0]</td>\n",
       "      <td>0.000000</td>\n",
       "      <td>4.079165</td>\n",
       "      <td>Machine 12</td>\n",
       "    </tr>\n",
       "    <tr>\n",
       "      <th>13</th>\n",
       "      <td>Job 13</td>\n",
       "      <td>[4]</td>\n",
       "      <td>0.000000</td>\n",
       "      <td>10.613619</td>\n",
       "      <td>Machine 13</td>\n",
       "    </tr>\n",
       "    <tr>\n",
       "      <th>14</th>\n",
       "      <td>Job 14</td>\n",
       "      <td>[0]</td>\n",
       "      <td>2.164922</td>\n",
       "      <td>21.618581</td>\n",
       "      <td>Machine 0</td>\n",
       "    </tr>\n",
       "    <tr>\n",
       "      <th>15</th>\n",
       "      <td>Setup 15</td>\n",
       "      <td>[0]</td>\n",
       "      <td>2.267261</td>\n",
       "      <td>2.427261</td>\n",
       "      <td>Machine 8</td>\n",
       "    </tr>\n",
       "    <tr>\n",
       "      <th>16</th>\n",
       "      <td>Job 15</td>\n",
       "      <td>[0]</td>\n",
       "      <td>2.427261</td>\n",
       "      <td>23.325644</td>\n",
       "      <td>Machine 8</td>\n",
       "    </tr>\n",
       "    <tr>\n",
       "      <th>17</th>\n",
       "      <td>Setup 16</td>\n",
       "      <td>[0]</td>\n",
       "      <td>2.164922</td>\n",
       "      <td>2.324922</td>\n",
       "      <td>Machine 0</td>\n",
       "    </tr>\n",
       "    <tr>\n",
       "      <th>18</th>\n",
       "      <td>Job 16</td>\n",
       "      <td>[0]</td>\n",
       "      <td>2.324922</td>\n",
       "      <td>12.120127</td>\n",
       "      <td>Machine 0</td>\n",
       "    </tr>\n",
       "    <tr>\n",
       "      <th>19</th>\n",
       "      <td>Job 17</td>\n",
       "      <td>[5]</td>\n",
       "      <td>3.631415</td>\n",
       "      <td>25.262373</td>\n",
       "      <td>Machine 4</td>\n",
       "    </tr>\n",
       "    <tr>\n",
       "      <th>20</th>\n",
       "      <td>Job 18</td>\n",
       "      <td>[0]</td>\n",
       "      <td>2.427261</td>\n",
       "      <td>6.454211</td>\n",
       "      <td>Machine 8</td>\n",
       "    </tr>\n",
       "    <tr>\n",
       "      <th>21</th>\n",
       "      <td>Job 19</td>\n",
       "      <td>[0]</td>\n",
       "      <td>2.324922</td>\n",
       "      <td>15.230043</td>\n",
       "      <td>Machine 0</td>\n",
       "    </tr>\n",
       "    <tr>\n",
       "      <th>22</th>\n",
       "      <td>Setup 20</td>\n",
       "      <td>[0]</td>\n",
       "      <td>2.004922</td>\n",
       "      <td>2.164922</td>\n",
       "      <td>Machine 0</td>\n",
       "    </tr>\n",
       "    <tr>\n",
       "      <th>23</th>\n",
       "      <td>Job 20</td>\n",
       "      <td>[0]</td>\n",
       "      <td>2.164922</td>\n",
       "      <td>9.981798</td>\n",
       "      <td>Machine 0</td>\n",
       "    </tr>\n",
       "    <tr>\n",
       "      <th>24</th>\n",
       "      <td>Setup 21</td>\n",
       "      <td>[0]</td>\n",
       "      <td>2.107261</td>\n",
       "      <td>2.267261</td>\n",
       "      <td>Machine 8</td>\n",
       "    </tr>\n",
       "    <tr>\n",
       "      <th>25</th>\n",
       "      <td>Job 21</td>\n",
       "      <td>[0]</td>\n",
       "      <td>2.267261</td>\n",
       "      <td>4.293279</td>\n",
       "      <td>Machine 8</td>\n",
       "    </tr>\n",
       "    <tr>\n",
       "      <th>26</th>\n",
       "      <td>Job 22</td>\n",
       "      <td>[0]</td>\n",
       "      <td>2.164922</td>\n",
       "      <td>43.151680</td>\n",
       "      <td>Machine 0</td>\n",
       "    </tr>\n",
       "    <tr>\n",
       "      <th>27</th>\n",
       "      <td>Job 23</td>\n",
       "      <td>[0]</td>\n",
       "      <td>2.164922</td>\n",
       "      <td>5.944123</td>\n",
       "      <td>Machine 0</td>\n",
       "    </tr>\n",
       "    <tr>\n",
       "      <th>28</th>\n",
       "      <td>Job 24</td>\n",
       "      <td>[0]</td>\n",
       "      <td>2.164922</td>\n",
       "      <td>5.915643</td>\n",
       "      <td>Machine 0</td>\n",
       "    </tr>\n",
       "    <tr>\n",
       "      <th>29</th>\n",
       "      <td>Job 25</td>\n",
       "      <td>[0]</td>\n",
       "      <td>2.164922</td>\n",
       "      <td>59.753674</td>\n",
       "      <td>Machine 0</td>\n",
       "    </tr>\n",
       "    <tr>\n",
       "      <th>30</th>\n",
       "      <td>Job 26</td>\n",
       "      <td>[0]</td>\n",
       "      <td>2.164922</td>\n",
       "      <td>29.094437</td>\n",
       "      <td>Machine 0</td>\n",
       "    </tr>\n",
       "    <tr>\n",
       "      <th>31</th>\n",
       "      <td>Job 27</td>\n",
       "      <td>[0]</td>\n",
       "      <td>2.164922</td>\n",
       "      <td>17.016126</td>\n",
       "      <td>Machine 0</td>\n",
       "    </tr>\n",
       "    <tr>\n",
       "      <th>32</th>\n",
       "      <td>Setup 28</td>\n",
       "      <td>[0]</td>\n",
       "      <td>2.267261</td>\n",
       "      <td>2.427261</td>\n",
       "      <td>Machine 8</td>\n",
       "    </tr>\n",
       "    <tr>\n",
       "      <th>33</th>\n",
       "      <td>Job 28</td>\n",
       "      <td>[0]</td>\n",
       "      <td>2.427261</td>\n",
       "      <td>7.309764</td>\n",
       "      <td>Machine 8</td>\n",
       "    </tr>\n",
       "    <tr>\n",
       "      <th>34</th>\n",
       "      <td>Job 29</td>\n",
       "      <td>[6]</td>\n",
       "      <td>4.079165</td>\n",
       "      <td>14.282332</td>\n",
       "      <td>Machine 12</td>\n",
       "    </tr>\n",
       "    <tr>\n",
       "      <th>35</th>\n",
       "      <td>Setup 30</td>\n",
       "      <td>[0]</td>\n",
       "      <td>2.164922</td>\n",
       "      <td>2.324922</td>\n",
       "      <td>Machine 0</td>\n",
       "    </tr>\n",
       "    <tr>\n",
       "      <th>36</th>\n",
       "      <td>Job 30</td>\n",
       "      <td>[0]</td>\n",
       "      <td>2.324922</td>\n",
       "      <td>8.479668</td>\n",
       "      <td>Machine 0</td>\n",
       "    </tr>\n",
       "    <tr>\n",
       "      <th>37</th>\n",
       "      <td>Job 31</td>\n",
       "      <td>[0]</td>\n",
       "      <td>2.427261</td>\n",
       "      <td>15.916266</td>\n",
       "      <td>Machine 8</td>\n",
       "    </tr>\n",
       "    <tr>\n",
       "      <th>38</th>\n",
       "      <td>Job 32</td>\n",
       "      <td>[0]</td>\n",
       "      <td>2.324922</td>\n",
       "      <td>7.978881</td>\n",
       "      <td>Machine 0</td>\n",
       "    </tr>\n",
       "    <tr>\n",
       "      <th>39</th>\n",
       "      <td>Setup 33</td>\n",
       "      <td>[0]</td>\n",
       "      <td>2.004922</td>\n",
       "      <td>2.164922</td>\n",
       "      <td>Machine 0</td>\n",
       "    </tr>\n",
       "  </tbody>\n",
       "</table>\n",
       "</div>"
      ],
      "text/plain": [
       "         Job Priority     Start        End     Machine\n",
       "0      Job 0      [0]  0.000000   2.164922   Machine 0\n",
       "1      Job 1      [0]  0.000000  12.152952   Machine 1\n",
       "2      Job 2      [0]  0.000000  20.766806   Machine 2\n",
       "3      Job 3      [0]  0.000000  10.954726   Machine 3\n",
       "4      Job 4      [5]  0.000000   3.631415   Machine 4\n",
       "5      Job 5      [0]  0.000000  10.703089   Machine 5\n",
       "6      Job 6      [0]  0.000000  43.315056   Machine 6\n",
       "7      Job 7      [0]  0.000000  18.631131   Machine 7\n",
       "8      Job 8      [0]  0.000000   2.267261   Machine 8\n",
       "9      Job 9      [0]  0.000000  10.662191   Machine 9\n",
       "10    Job 10      [0]  0.000000  42.886406  Machine 10\n",
       "11    Job 11      [4]  0.000000  16.654317  Machine 11\n",
       "12    Job 12      [0]  0.000000   4.079165  Machine 12\n",
       "13    Job 13      [4]  0.000000  10.613619  Machine 13\n",
       "14    Job 14      [0]  2.164922  21.618581   Machine 0\n",
       "15  Setup 15      [0]  2.267261   2.427261   Machine 8\n",
       "16    Job 15      [0]  2.427261  23.325644   Machine 8\n",
       "17  Setup 16      [0]  2.164922   2.324922   Machine 0\n",
       "18    Job 16      [0]  2.324922  12.120127   Machine 0\n",
       "19    Job 17      [5]  3.631415  25.262373   Machine 4\n",
       "20    Job 18      [0]  2.427261   6.454211   Machine 8\n",
       "21    Job 19      [0]  2.324922  15.230043   Machine 0\n",
       "22  Setup 20      [0]  2.004922   2.164922   Machine 0\n",
       "23    Job 20      [0]  2.164922   9.981798   Machine 0\n",
       "24  Setup 21      [0]  2.107261   2.267261   Machine 8\n",
       "25    Job 21      [0]  2.267261   4.293279   Machine 8\n",
       "26    Job 22      [0]  2.164922  43.151680   Machine 0\n",
       "27    Job 23      [0]  2.164922   5.944123   Machine 0\n",
       "28    Job 24      [0]  2.164922   5.915643   Machine 0\n",
       "29    Job 25      [0]  2.164922  59.753674   Machine 0\n",
       "30    Job 26      [0]  2.164922  29.094437   Machine 0\n",
       "31    Job 27      [0]  2.164922  17.016126   Machine 0\n",
       "32  Setup 28      [0]  2.267261   2.427261   Machine 8\n",
       "33    Job 28      [0]  2.427261   7.309764   Machine 8\n",
       "34    Job 29      [6]  4.079165  14.282332  Machine 12\n",
       "35  Setup 30      [0]  2.164922   2.324922   Machine 0\n",
       "36    Job 30      [0]  2.324922   8.479668   Machine 0\n",
       "37    Job 31      [0]  2.427261  15.916266   Machine 8\n",
       "38    Job 32      [0]  2.324922   7.978881   Machine 0\n",
       "39  Setup 33      [0]  2.004922   2.164922   Machine 0"
      ]
     },
     "execution_count": 25,
     "metadata": {},
     "output_type": "execute_result"
    }
   ],
   "source": [
    "dfGantt.head(40)"
   ]
  },
  {
   "cell_type": "code",
   "execution_count": null,
   "id": "776f0d16",
   "metadata": {},
   "outputs": [],
   "source": []
  }
 ],
 "metadata": {
  "kernelspec": {
   "display_name": "Python 3",
   "language": "python",
   "name": "python3"
  },
  "language_info": {
   "codemirror_mode": {
    "name": "ipython",
    "version": 3
   },
   "file_extension": ".py",
   "mimetype": "text/x-python",
   "name": "python",
   "nbconvert_exporter": "python",
   "pygments_lexer": "ipython3",
   "version": "3.11.5"
  }
 },
 "nbformat": 4,
 "nbformat_minor": 5
}
