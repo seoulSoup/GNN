{
 "cells": [
  {
   "cell_type": "code",
   "execution_count": 2,
   "id": "e5702c29",
   "metadata": {},
   "outputs": [],
   "source": [
    "import cvxpy as cp\n",
    "import numpy as np\n",
    "import random"
   ]
  },
  {
   "cell_type": "code",
   "execution_count": 3,
   "id": "696bc667",
   "metadata": {},
   "outputs": [],
   "source": [
    "def queueGenerator(numQueue):\n",
    "    listDataEquip, listDataPcard, listDataPtime, listDataPriority = [], [], [], []\n",
    "    listEquip = ['4082', 'V93K']\n",
    "    listPcard = ['AV44', 'FF44']\n",
    "\n",
    "    for _ in range(numQueue):\n",
    "        equip = random.choices(listEquip, weights=[0.8, 0.2])\n",
    "        pcard = random.choices(listPcard, weights=[0.8, 0.2])\n",
    "        # 0~100까지\n",
    "        ptime = np.random.beta(1, 5, 1).item()*100\n",
    "        priority = random.choices(range(0, 7), weights=[0.8, 0.01, 0.01, 0.01, 0.02, 0.05, 0.1])\n",
    "        listDataEquip.append(equip)\n",
    "        listDataPcard.append(pcard)\n",
    "        listDataPtime.append(ptime)\n",
    "        listDataPriority.append(priority)\n",
    "    return listDataEquip, listDataPcard, listDataPtime, listDataPriority\n",
    "\n",
    "numQueue = int(np.random.beta(1, 5, 1).item()*50 + 30)\n",
    "listDataEquip, matrixPcard, p, priority = queueGenerator(numQueue)"
   ]
  },
  {
   "cell_type": "code",
   "execution_count": 4,
   "id": "75f0523d",
   "metadata": {},
   "outputs": [
    {
     "data": {
      "text/plain": [
       "32"
      ]
     },
     "execution_count": 4,
     "metadata": {},
     "output_type": "execute_result"
    }
   ],
   "source": [
    "len(listDataEquip)"
   ]
  },
  {
   "cell_type": "code",
   "execution_count": null,
   "id": "d5ebb88f",
   "metadata": {},
   "outputs": [],
   "source": [
    "J = len(listDataEquip) # number of jobs\n",
    "M = 14 # number of machines\n",
    "r = 0.16 # release time\n",
    "BIG_M = 1000\n",
    "matrixEquip = np.array([[listDataEquip[j] == listDataEquip[m] for j in range(J)] for m in range(M)])\n",
    "# s = cp.Variable(J, nonneg=True) # 시작 시간\n",
    "# p = cp.Constant(listP)\n",
    "C = cp.Variable(J, nonneg=True) # 완료 시간\n",
    "z = cp.Variable((J, M), boolean=True) # 할당 여부\n",
    "o = cp.Variable((J, J), boolean=True) # 순서 결정\n",
    "y = cp.Variable((J, J), boolean=True) # 동일 장비\n",
    "\n",
    "\n",
    "constraints = []\n",
    "\n",
    "# 0. 초기 조건 (이미 할당된 Plan 들을 Job의 M번째까지 초기 조건으로 할당)\n",
    "for j in range(J):\n",
    "    for m in range(M):\n",
    "        if not matrixEquip[m][j]:\n",
    "            constraints.append(z[j, m] == 0)     \n",
    "        if j == m:\n",
    "            constraints.append(z[j, m] == 1)\n",
    "            # for k in range(M, J):\n",
    "            #     constraints.append(o[j, k] == 1)\n",
    "            #     constraints.append(C[j] <= C[k] + BIG_M * (1 - z[k, m]))\n",
    "\n",
    "# 2. Priority 조건\n",
    "constraints += [o[l, j] == 0 for l in range(J) for j in range(J) if ((l >= M) and (j >= M) and (priority[l] < priority[j]))]\n",
    "\n",
    "constraints += [o[l,j] + o[j,l] + y[l,j] == 1 for l in range(J) for j in range(J) if l < j]\n",
    "constraints += [o[l,j] + o[j,k] + o[k,l] <= 2 for l in range(J) for j in range(J) for k in range(J) if l < j < k]\n",
    "constraints += [z[l,i] + z[j,i] + y[l,j] <= 2 for i in range(M) for l in range(J) for j in range(J) if l < j]\n",
    "constraints += [sum(z[l,i] for i in range(M)) == 1 for l in range(J)]\n",
    "# constraints += [C[j] >= p[j]*z[j,i] for i in range(M) for j in range(J)]\n",
    "constraints += [C[j] >= p[j] for j in range(J)]\n",
    "constraints += [C[j] >= C[l] + (p[j] + r*int(matrixPcard[j] != matrixPcard[l]))*(o[l,j] + z[l,i] + z[j,i] - 2) - BIG_M*(1-o[l,j]) for i in range(M) for l in range(J) for j in range(J)]\n",
    "\n",
    "\n",
    "obj = cp.Minimize(cp.mean(C))\n",
    "# raise ValueError\n",
    "prob = cp.Problem(obj, constraints)\n",
    "# prob.solve(solver='CBC')\n",
    "prob.solve(solver=cp.HIGHS)\n",
    "print('최적해 상태: ', prob.status)\n",
    "print('최적값: ', prob.value)\n"
   ]
  },
  {
   "cell_type": "code",
   "execution_count": 21,
   "id": "485f049e",
   "metadata": {},
   "outputs": [
    {
     "data": {
      "application/vnd.plotly.v1+json": {
       "config": {
        "plotlyServerURL": "https://plot.ly"
       },
       "data": [
        {
         "base": [
          0
         ],
         "hoverinfo": "text",
         "hovertext": "Job 0: 0.0 ~ 21.425466794860593",
         "marker": {
          "color": "skyblue"
         },
         "name": "Job 0",
         "orientation": "h",
         "showlegend": false,
         "type": "bar",
         "x": [
          21.425466794860593
         ],
         "y": [
          0
         ]
        },
        {
         "base": [
          0
         ],
         "hoverinfo": "text",
         "hovertext": "Job 1: 0.0 ~ 10.124236607652044",
         "marker": {
          "color": "skyblue"
         },
         "name": "Job 1",
         "orientation": "h",
         "showlegend": false,
         "type": "bar",
         "x": [
          10.124236607652044
         ],
         "y": [
          1
         ]
        },
        {
         "base": [
          0
         ],
         "hoverinfo": "text",
         "hovertext": "Job 2: 0.0 ~ 13.722138378869634",
         "marker": {
          "color": "skyblue"
         },
         "name": "Job 2",
         "orientation": "h",
         "showlegend": false,
         "type": "bar",
         "x": [
          13.722138378869634
         ],
         "y": [
          6
         ]
        },
        {
         "base": [
          0
         ],
         "hoverinfo": "text",
         "hovertext": "Job 3: 0.0 ~ 24.03930993517298",
         "marker": {
          "color": "skyblue"
         },
         "name": "Job 3",
         "orientation": "h",
         "showlegend": false,
         "type": "bar",
         "x": [
          24.03930993517298
         ],
         "y": [
          7
         ]
        },
        {
         "base": [
          0
         ],
         "hoverinfo": "text",
         "hovertext": "Job 4: 0.0 ~ 6.0460507705146185",
         "marker": {
          "color": "skyblue"
         },
         "name": "Job 4",
         "orientation": "h",
         "showlegend": false,
         "type": "bar",
         "x": [
          6.0460507705146185
         ],
         "y": [
          8
         ]
        },
        {
         "base": [
          0
         ],
         "hoverinfo": "text",
         "hovertext": "Job 5: 0.0 ~ 5.758065106216262",
         "marker": {
          "color": "skyblue"
         },
         "name": "Job 5",
         "orientation": "h",
         "showlegend": false,
         "type": "bar",
         "x": [
          5.758065106216262
         ],
         "y": [
          9
         ]
        },
        {
         "base": [
          0
         ],
         "hoverinfo": "text",
         "hovertext": "Job 6: 0.0 ~ 18.091174437577425",
         "marker": {
          "color": "skyblue"
         },
         "name": "Job 6",
         "orientation": "h",
         "showlegend": false,
         "type": "bar",
         "x": [
          18.091174437577425
         ],
         "y": [
          10
         ]
        },
        {
         "base": [
          0
         ],
         "hoverinfo": "text",
         "hovertext": "Job 7: 0.0 ~ 16.56546632233365",
         "marker": {
          "color": "skyblue"
         },
         "name": "Job 7",
         "orientation": "h",
         "showlegend": false,
         "type": "bar",
         "x": [
          16.56546632233365
         ],
         "y": [
          11
         ]
        },
        {
         "base": [
          0
         ],
         "hoverinfo": "text",
         "hovertext": "Job 8: 0.0 ~ 2.56446324861317",
         "marker": {
          "color": "skyblue"
         },
         "name": "Job 8",
         "orientation": "h",
         "showlegend": false,
         "type": "bar",
         "x": [
          2.56446324861317
         ],
         "y": [
          12
         ]
        },
        {
         "base": [
          0
         ],
         "hoverinfo": "text",
         "hovertext": "Job 9: 0.0 ~ 32.309221464072294",
         "marker": {
          "color": "skyblue"
         },
         "name": "Job 9",
         "orientation": "h",
         "showlegend": false,
         "type": "bar",
         "x": [
          32.309221464072294
         ],
         "y": [
          13
         ]
        },
        {
         "base": [
          0
         ],
         "hoverinfo": "text",
         "hovertext": "Job 10: 0.0 ~ 10.340302763802985",
         "marker": {
          "color": "skyblue"
         },
         "name": "Job 10",
         "orientation": "h",
         "showlegend": false,
         "type": "bar",
         "x": [
          10.340302763802985
         ],
         "y": [
          2
         ]
        },
        {
         "base": [
          0
         ],
         "hoverinfo": "text",
         "hovertext": "Job 11: 0.0 ~ 5.13267390723961",
         "marker": {
          "color": "skyblue"
         },
         "name": "Job 11",
         "orientation": "h",
         "showlegend": false,
         "type": "bar",
         "x": [
          5.13267390723961
         ],
         "y": [
          3
         ]
        },
        {
         "base": [
          0
         ],
         "hoverinfo": "text",
         "hovertext": "Job 12: 0.0 ~ 3.853552454371481",
         "marker": {
          "color": "skyblue"
         },
         "name": "Job 12",
         "orientation": "h",
         "showlegend": false,
         "type": "bar",
         "x": [
          3.853552454371481
         ],
         "y": [
          4
         ]
        },
        {
         "base": [
          0
         ],
         "hoverinfo": "text",
         "hovertext": "Job 13: 0.0 ~ 15.875176881548244",
         "marker": {
          "color": "skyblue"
         },
         "name": "Job 13",
         "orientation": "h",
         "showlegend": false,
         "type": "bar",
         "x": [
          15.875176881548244
         ],
         "y": [
          5
         ]
        },
        {
         "base": [
          5.758065106216037
         ],
         "hoverinfo": "text",
         "hovertext": "Setup 14: 5.758065106216037 ~ 5.918065106216037",
         "marker": {
          "color": "lightcoral"
         },
         "name": "Setup 14",
         "orientation": "h",
         "showlegend": false,
         "type": "bar",
         "x": [
          0.16000000000000014
         ],
         "y": [
          9
         ]
        },
        {
         "base": [
          5.918065106216037
         ],
         "hoverinfo": "text",
         "hovertext": "Job 14: 5.918065106216037 ~ 35.60821187195632",
         "marker": {
          "color": "skyblue"
         },
         "name": "Job 14",
         "orientation": "h",
         "showlegend": false,
         "type": "bar",
         "x": [
          29.690146765740284
         ],
         "y": [
          9
         ]
        },
        {
         "base": [
          24.199309935172977
         ],
         "hoverinfo": "text",
         "hovertext": "Job 15: 24.199309935172977 ~ 45.80115192628706",
         "marker": {
          "color": "skyblue"
         },
         "name": "Job 15",
         "orientation": "h",
         "showlegend": false,
         "type": "bar",
         "x": [
          21.601841991114085
         ],
         "y": [
          7
         ]
        },
        {
         "base": [
          10.340302763802985
         ],
         "hoverinfo": "text",
         "hovertext": "Job 16: 10.340302763802985 ~ 36.59948486061534",
         "marker": {
          "color": "skyblue"
         },
         "name": "Job 16",
         "orientation": "h",
         "showlegend": false,
         "type": "bar",
         "x": [
          26.259182096812356
         ],
         "y": [
          2
         ]
        },
        {
         "base": [
          50.49823020265243
         ],
         "hoverinfo": "text",
         "hovertext": "Job 17: 50.49823020265243 ~ 53.044402952898324",
         "marker": {
          "color": "skyblue"
         },
         "name": "Job 17",
         "orientation": "h",
         "showlegend": false,
         "type": "bar",
         "x": [
          2.546172750245894
         ],
         "y": [
          6
         ]
        },
        {
         "base": [
          21.42546679486059
         ],
         "hoverinfo": "text",
         "hovertext": "Job 18: 21.42546679486059 ~ 32.92988087421812",
         "marker": {
          "color": "skyblue"
         },
         "name": "Job 18",
         "orientation": "h",
         "showlegend": false,
         "type": "bar",
         "x": [
          11.504414079357531
         ],
         "y": [
          0
         ]
        },
        {
         "base": [
          4.013552454371705
         ],
         "hoverinfo": "text",
         "hovertext": "Job 19: 4.013552454371705 ~ 63.437948202820834",
         "marker": {
          "color": "skyblue"
         },
         "name": "Job 19",
         "orientation": "h",
         "showlegend": false,
         "type": "bar",
         "x": [
          59.42439574844913
         ],
         "y": [
          4
         ]
        },
        {
         "base": [
          9.46716329037232
         ],
         "hoverinfo": "text",
         "hovertext": "Job 20: 9.46716329037232 ~ 32.92988087421809",
         "marker": {
          "color": "skyblue"
         },
         "name": "Job 20",
         "orientation": "h",
         "showlegend": false,
         "type": "bar",
         "x": [
          23.462717583845773
         ],
         "y": [
          8
         ]
        },
        {
         "base": [
          16.03517688154824
         ],
         "hoverinfo": "text",
         "hovertext": "Job 21: 16.03517688154824 ~ 60.97354763213123",
         "marker": {
          "color": "skyblue"
         },
         "name": "Job 21",
         "orientation": "h",
         "showlegend": false,
         "type": "bar",
         "x": [
          44.93837075058299
         ],
         "y": [
          5
         ]
        },
        {
         "base": [
          58.233367633925766
         ],
         "hoverinfo": "text",
         "hovertext": "Setup 22: 58.233367633925766 ~ 58.39336763392576",
         "marker": {
          "color": "lightcoral"
         },
         "name": "Setup 22",
         "orientation": "h",
         "showlegend": false,
         "type": "bar",
         "x": [
          0.1599999999999966
         ],
         "y": [
          13
         ]
        },
        {
         "base": [
          58.39336763392576
         ],
         "hoverinfo": "text",
         "hovertext": "Job 22: 58.39336763392576 ~ 60.97354763213129",
         "marker": {
          "color": "skyblue"
         },
         "name": "Job 22",
         "orientation": "h",
         "showlegend": false,
         "type": "bar",
         "x": [
          2.58017999820553
         ],
         "y": [
          13
         ]
        },
        {
         "base": [
          36.759484860615345
         ],
         "hoverinfo": "text",
         "hovertext": "Job 23: 36.759484860615345 ~ 62.35248894128472",
         "marker": {
          "color": "skyblue"
         },
         "name": "Job 23",
         "orientation": "h",
         "showlegend": false,
         "type": "bar",
         "x": [
          25.593004080669374
         ],
         "y": [
          2
         ]
        },
        {
         "base": [
          49.11775448116524
         ],
         "hoverinfo": "text",
         "hovertext": "Setup 24: 49.11775448116524 ~ 49.27775448116524",
         "marker": {
          "color": "lightcoral"
         },
         "name": "Setup 24",
         "orientation": "h",
         "showlegend": false,
         "type": "bar",
         "x": [
          0.1599999999999966
         ],
         "y": [
          11
         ]
        },
        {
         "base": [
          49.27775448116524
         ],
         "hoverinfo": "text",
         "hovertext": "Job 24: 49.27775448116524 ~ 61.70394462399851",
         "marker": {
          "color": "skyblue"
         },
         "name": "Job 24",
         "orientation": "h",
         "showlegend": false,
         "type": "bar",
         "x": [
          12.42619014283327
         ],
         "y": [
          11
         ]
        },
        {
         "base": [
          5.132673907239841
         ],
         "hoverinfo": "text",
         "hovertext": "Job 25: 5.132673907239841 ~ 45.7743840833467",
         "marker": {
          "color": "skyblue"
         },
         "name": "Job 25",
         "orientation": "h",
         "showlegend": false,
         "type": "bar",
         "x": [
          40.64171017610686
         ],
         "y": [
          3
         ]
        },
        {
         "base": [
          48.5747000871479
         ],
         "hoverinfo": "text",
         "hovertext": "Job 26: 48.5747000871479 ~ 57.99819965921769",
         "marker": {
          "color": "skyblue"
         },
         "name": "Job 26",
         "orientation": "h",
         "showlegend": false,
         "type": "bar",
         "x": [
          9.423499572069787
         ],
         "y": [
          7
         ]
        },
        {
         "base": [
          48.42061721333966
         ],
         "hoverinfo": "text",
         "hovertext": "Job 27: 48.42061721333966 ~ 49.27775448116529",
         "marker": {
          "color": "skyblue"
         },
         "name": "Job 27",
         "orientation": "h",
         "showlegend": false,
         "type": "bar",
         "x": [
          0.8571372678256282
         ],
         "y": [
          11
         ]
        },
        {
         "base": [
          32.92988087421811
         ],
         "hoverinfo": "text",
         "hovertext": "Setup 28: 32.92988087421811 ~ 33.0898808742181",
         "marker": {
          "color": "lightcoral"
         },
         "name": "Setup 28",
         "orientation": "h",
         "showlegend": false,
         "type": "bar",
         "x": [
          0.1599999999999966
         ],
         "y": [
          8
         ]
        },
        {
         "base": [
          33.0898808742181
         ],
         "hoverinfo": "text",
         "hovertext": "Job 28: 33.0898808742181 ~ 52.565121346683284",
         "marker": {
          "color": "skyblue"
         },
         "name": "Job 28",
         "orientation": "h",
         "showlegend": false,
         "type": "bar",
         "x": [
          19.47524047246518
         ],
         "y": [
          8
         ]
        },
        {
         "base": [
          47.490438332782
         ],
         "hoverinfo": "text",
         "hovertext": "Job 29: 47.490438332782 ~ 57.611868635381484",
         "marker": {
          "color": "skyblue"
         },
         "name": "Job 29",
         "orientation": "h",
         "showlegend": false,
         "type": "bar",
         "x": [
          10.121430302599485
         ],
         "y": [
          3
         ]
        },
        {
         "base": [
          52.01547308259091
         ],
         "hoverinfo": "text",
         "hovertext": "Setup 30: 52.01547308259091 ~ 52.175473082590905",
         "marker": {
          "color": "lightcoral"
         },
         "name": "Setup 30",
         "orientation": "h",
         "showlegend": false,
         "type": "bar",
         "x": [
          0.1599999999999966
         ],
         "y": [
          13
         ]
        },
        {
         "base": [
          52.175473082590905
         ],
         "hoverinfo": "text",
         "hovertext": "Job 30: 52.175473082590905 ~ 58.2333676339257",
         "marker": {
          "color": "skyblue"
         },
         "name": "Job 30",
         "orientation": "h",
         "showlegend": false,
         "type": "bar",
         "x": [
          6.0578945513347975
         ],
         "y": [
          13
         ]
        },
        {
         "base": [
          32.92988087421814
         ],
         "hoverinfo": "text",
         "hovertext": "Job 31: 32.92988087421814 ~ 36.63407706777413",
         "marker": {
          "color": "skyblue"
         },
         "name": "Job 31",
         "orientation": "h",
         "showlegend": false,
         "type": "bar",
         "x": [
          3.704196193555987
         ],
         "y": [
          0
         ]
        },
        {
         "base": [
          40.53278191643282
         ],
         "hoverinfo": "text",
         "hovertext": "Setup 32: 40.53278191643282 ~ 40.692781916432814",
         "marker": {
          "color": "lightcoral"
         },
         "name": "Setup 32",
         "orientation": "h",
         "showlegend": false,
         "type": "bar",
         "x": [
          0.1599999999999966
         ],
         "y": [
          13
         ]
        },
        {
         "base": [
          40.692781916432814
         ],
         "hoverinfo": "text",
         "hovertext": "Job 32: 40.692781916432814 ~ 52.01547308259088",
         "marker": {
          "color": "skyblue"
         },
         "name": "Job 32",
         "orientation": "h",
         "showlegend": false,
         "type": "bar",
         "x": [
          11.322691166158066
         ],
         "y": [
          13
         ]
        },
        {
         "base": [
          45.641151926286994
         ],
         "hoverinfo": "text",
         "hovertext": "Setup 33: 45.641151926286994 ~ 45.80115192628699",
         "marker": {
          "color": "lightcoral"
         },
         "name": "Setup 33",
         "orientation": "h",
         "showlegend": false,
         "type": "bar",
         "x": [
          0.1599999999999966
         ],
         "y": [
          7
         ]
        },
        {
         "base": [
          45.80115192628699
         ],
         "hoverinfo": "text",
         "hovertext": "Job 33: 45.80115192628699 ~ 48.57470008714789",
         "marker": {
          "color": "skyblue"
         },
         "name": "Job 33",
         "orientation": "h",
         "showlegend": false,
         "type": "bar",
         "x": [
          2.773548160860898
         ],
         "y": [
          7
         ]
        },
        {
         "base": [
          53.04440295289827
         ],
         "hoverinfo": "text",
         "hovertext": "Job 34: 53.04440295289827 ~ 55.93845067741954",
         "marker": {
          "color": "skyblue"
         },
         "name": "Job 34",
         "orientation": "h",
         "showlegend": false,
         "type": "bar",
         "x": [
          2.894047724521272
         ],
         "y": [
          6
         ]
        },
        {
         "base": [
          10.124236607652044
         ],
         "hoverinfo": "text",
         "hovertext": "Job 35: 10.124236607652044 ~ 51.350735874427876",
         "marker": {
          "color": "skyblue"
         },
         "name": "Job 35",
         "orientation": "h",
         "showlegend": false,
         "type": "bar",
         "x": [
          41.22649926677583
         ],
         "y": [
          1
         ]
        },
        {
         "base": [
          55.93845067741962
         ],
         "hoverinfo": "text",
         "hovertext": "Job 36: 55.93845067741962 ~ 61.437476583310136",
         "marker": {
          "color": "skyblue"
         },
         "name": "Job 36",
         "orientation": "h",
         "showlegend": false,
         "type": "bar",
         "x": [
          5.4990259058905195
         ],
         "y": [
          6
         ]
        },
        {
         "base": [
          54.88549210121552
         ],
         "hoverinfo": "text",
         "hovertext": "Job 37: 54.88549210121552 ~ 62.76031783757756",
         "marker": {
          "color": "skyblue"
         },
         "name": "Job 37",
         "orientation": "h",
         "showlegend": false,
         "type": "bar",
         "x": [
          7.874825736362041
         ],
         "y": [
          1
         ]
        },
        {
         "base": [
          18.09117443757743
         ],
         "hoverinfo": "text",
         "hovertext": "Job 38: 18.09117443757743 ~ 61.38276004839919",
         "marker": {
          "color": "skyblue"
         },
         "name": "Job 38",
         "orientation": "h",
         "showlegend": false,
         "type": "bar",
         "x": [
          43.29158561082176
         ],
         "y": [
          10
         ]
        },
        {
         "base": [
          36.63407706777413
         ],
         "hoverinfo": "text",
         "hovertext": "Job 39: 36.63407706777413 ~ 54.02480446348024",
         "marker": {
          "color": "skyblue"
         },
         "name": "Job 39",
         "orientation": "h",
         "showlegend": false,
         "type": "bar",
         "x": [
          17.390727395706108
         ],
         "y": [
          0
         ]
        },
        {
         "base": [
          2.5644632486131727
         ],
         "hoverinfo": "text",
         "hovertext": "Job 40: 2.5644632486131727 ~ 63.43706264558767",
         "marker": {
          "color": "skyblue"
         },
         "name": "Job 40",
         "orientation": "h",
         "showlegend": false,
         "type": "bar",
         "x": [
          60.8725993969745
         ],
         "y": [
          12
         ]
        },
        {
         "base": [
          45.77438408334672
         ],
         "hoverinfo": "text",
         "hovertext": "Setup 41: 45.77438408334672 ~ 45.934384083346714",
         "marker": {
          "color": "lightcoral"
         },
         "name": "Setup 41",
         "orientation": "h",
         "showlegend": false,
         "type": "bar",
         "x": [
          0.1599999999999966
         ],
         "y": [
          3
         ]
        },
        {
         "base": [
          45.934384083346714
         ],
         "hoverinfo": "text",
         "hovertext": "Job 41: 45.934384083346714 ~ 47.490438332782006",
         "marker": {
          "color": "skyblue"
         },
         "name": "Job 41",
         "orientation": "h",
         "showlegend": false,
         "type": "bar",
         "x": [
          1.5560542494352916
         ],
         "y": [
          3
         ]
        },
        {
         "base": [
          51.19073587442788
         ],
         "hoverinfo": "text",
         "hovertext": "Setup 42: 51.19073587442788 ~ 51.350735874427876",
         "marker": {
          "color": "lightcoral"
         },
         "name": "Setup 42",
         "orientation": "h",
         "showlegend": false,
         "type": "bar",
         "x": [
          0.1599999999999966
         ],
         "y": [
          1
         ]
        },
        {
         "base": [
          51.350735874427876
         ],
         "hoverinfo": "text",
         "hovertext": "Job 42: 51.350735874427876 ~ 54.88549210121551",
         "marker": {
          "color": "skyblue"
         },
         "name": "Job 42",
         "orientation": "h",
         "showlegend": false,
         "type": "bar",
         "x": [
          3.5347562267876356
         ],
         "y": [
          1
         ]
        },
        {
         "base": [
          13.722138378869637
         ],
         "hoverinfo": "text",
         "hovertext": "Job 43: 13.722138378869637 ~ 50.49823020265242",
         "marker": {
          "color": "skyblue"
         },
         "name": "Job 43",
         "orientation": "h",
         "showlegend": false,
         "type": "bar",
         "x": [
          36.776091823782785
         ],
         "y": [
          6
         ]
        },
        {
         "base": [
          16.56546632233388
         ],
         "hoverinfo": "text",
         "hovertext": "Job 44: 16.56546632233388 ~ 48.420617213339725",
         "marker": {
          "color": "skyblue"
         },
         "name": "Job 44",
         "orientation": "h",
         "showlegend": false,
         "type": "bar",
         "x": [
          31.855150891005845
         ],
         "y": [
          11
         ]
        },
        {
         "base": [
          59.821450490390035
         ],
         "hoverinfo": "text",
         "hovertext": "Job 45: 59.821450490390035 ~ 61.38276004839919",
         "marker": {
          "color": "skyblue"
         },
         "name": "Job 45",
         "orientation": "h",
         "showlegend": false,
         "type": "bar",
         "x": [
          1.5613095580091567
         ],
         "y": [
          8
         ]
        }
       ],
       "layout": {
        "barmode": "stack",
        "height": 1000,
        "template": {
         "data": {
          "bar": [
           {
            "error_x": {
             "color": "#2a3f5f"
            },
            "error_y": {
             "color": "#2a3f5f"
            },
            "marker": {
             "line": {
              "color": "#E5ECF6",
              "width": 0.5
             },
             "pattern": {
              "fillmode": "overlay",
              "size": 10,
              "solidity": 0.2
             }
            },
            "type": "bar"
           }
          ],
          "barpolar": [
           {
            "marker": {
             "line": {
              "color": "#E5ECF6",
              "width": 0.5
             },
             "pattern": {
              "fillmode": "overlay",
              "size": 10,
              "solidity": 0.2
             }
            },
            "type": "barpolar"
           }
          ],
          "carpet": [
           {
            "aaxis": {
             "endlinecolor": "#2a3f5f",
             "gridcolor": "white",
             "linecolor": "white",
             "minorgridcolor": "white",
             "startlinecolor": "#2a3f5f"
            },
            "baxis": {
             "endlinecolor": "#2a3f5f",
             "gridcolor": "white",
             "linecolor": "white",
             "minorgridcolor": "white",
             "startlinecolor": "#2a3f5f"
            },
            "type": "carpet"
           }
          ],
          "choropleth": [
           {
            "colorbar": {
             "outlinewidth": 0,
             "ticks": ""
            },
            "type": "choropleth"
           }
          ],
          "contour": [
           {
            "colorbar": {
             "outlinewidth": 0,
             "ticks": ""
            },
            "colorscale": [
             [
              0,
              "#0d0887"
             ],
             [
              0.1111111111111111,
              "#46039f"
             ],
             [
              0.2222222222222222,
              "#7201a8"
             ],
             [
              0.3333333333333333,
              "#9c179e"
             ],
             [
              0.4444444444444444,
              "#bd3786"
             ],
             [
              0.5555555555555556,
              "#d8576b"
             ],
             [
              0.6666666666666666,
              "#ed7953"
             ],
             [
              0.7777777777777778,
              "#fb9f3a"
             ],
             [
              0.8888888888888888,
              "#fdca26"
             ],
             [
              1,
              "#f0f921"
             ]
            ],
            "type": "contour"
           }
          ],
          "contourcarpet": [
           {
            "colorbar": {
             "outlinewidth": 0,
             "ticks": ""
            },
            "type": "contourcarpet"
           }
          ],
          "heatmap": [
           {
            "colorbar": {
             "outlinewidth": 0,
             "ticks": ""
            },
            "colorscale": [
             [
              0,
              "#0d0887"
             ],
             [
              0.1111111111111111,
              "#46039f"
             ],
             [
              0.2222222222222222,
              "#7201a8"
             ],
             [
              0.3333333333333333,
              "#9c179e"
             ],
             [
              0.4444444444444444,
              "#bd3786"
             ],
             [
              0.5555555555555556,
              "#d8576b"
             ],
             [
              0.6666666666666666,
              "#ed7953"
             ],
             [
              0.7777777777777778,
              "#fb9f3a"
             ],
             [
              0.8888888888888888,
              "#fdca26"
             ],
             [
              1,
              "#f0f921"
             ]
            ],
            "type": "heatmap"
           }
          ],
          "histogram": [
           {
            "marker": {
             "pattern": {
              "fillmode": "overlay",
              "size": 10,
              "solidity": 0.2
             }
            },
            "type": "histogram"
           }
          ],
          "histogram2d": [
           {
            "colorbar": {
             "outlinewidth": 0,
             "ticks": ""
            },
            "colorscale": [
             [
              0,
              "#0d0887"
             ],
             [
              0.1111111111111111,
              "#46039f"
             ],
             [
              0.2222222222222222,
              "#7201a8"
             ],
             [
              0.3333333333333333,
              "#9c179e"
             ],
             [
              0.4444444444444444,
              "#bd3786"
             ],
             [
              0.5555555555555556,
              "#d8576b"
             ],
             [
              0.6666666666666666,
              "#ed7953"
             ],
             [
              0.7777777777777778,
              "#fb9f3a"
             ],
             [
              0.8888888888888888,
              "#fdca26"
             ],
             [
              1,
              "#f0f921"
             ]
            ],
            "type": "histogram2d"
           }
          ],
          "histogram2dcontour": [
           {
            "colorbar": {
             "outlinewidth": 0,
             "ticks": ""
            },
            "colorscale": [
             [
              0,
              "#0d0887"
             ],
             [
              0.1111111111111111,
              "#46039f"
             ],
             [
              0.2222222222222222,
              "#7201a8"
             ],
             [
              0.3333333333333333,
              "#9c179e"
             ],
             [
              0.4444444444444444,
              "#bd3786"
             ],
             [
              0.5555555555555556,
              "#d8576b"
             ],
             [
              0.6666666666666666,
              "#ed7953"
             ],
             [
              0.7777777777777778,
              "#fb9f3a"
             ],
             [
              0.8888888888888888,
              "#fdca26"
             ],
             [
              1,
              "#f0f921"
             ]
            ],
            "type": "histogram2dcontour"
           }
          ],
          "mesh3d": [
           {
            "colorbar": {
             "outlinewidth": 0,
             "ticks": ""
            },
            "type": "mesh3d"
           }
          ],
          "parcoords": [
           {
            "line": {
             "colorbar": {
              "outlinewidth": 0,
              "ticks": ""
             }
            },
            "type": "parcoords"
           }
          ],
          "pie": [
           {
            "automargin": true,
            "type": "pie"
           }
          ],
          "scatter": [
           {
            "fillpattern": {
             "fillmode": "overlay",
             "size": 10,
             "solidity": 0.2
            },
            "type": "scatter"
           }
          ],
          "scatter3d": [
           {
            "line": {
             "colorbar": {
              "outlinewidth": 0,
              "ticks": ""
             }
            },
            "marker": {
             "colorbar": {
              "outlinewidth": 0,
              "ticks": ""
             }
            },
            "type": "scatter3d"
           }
          ],
          "scattercarpet": [
           {
            "marker": {
             "colorbar": {
              "outlinewidth": 0,
              "ticks": ""
             }
            },
            "type": "scattercarpet"
           }
          ],
          "scattergeo": [
           {
            "marker": {
             "colorbar": {
              "outlinewidth": 0,
              "ticks": ""
             }
            },
            "type": "scattergeo"
           }
          ],
          "scattergl": [
           {
            "marker": {
             "colorbar": {
              "outlinewidth": 0,
              "ticks": ""
             }
            },
            "type": "scattergl"
           }
          ],
          "scattermap": [
           {
            "marker": {
             "colorbar": {
              "outlinewidth": 0,
              "ticks": ""
             }
            },
            "type": "scattermap"
           }
          ],
          "scattermapbox": [
           {
            "marker": {
             "colorbar": {
              "outlinewidth": 0,
              "ticks": ""
             }
            },
            "type": "scattermapbox"
           }
          ],
          "scatterpolar": [
           {
            "marker": {
             "colorbar": {
              "outlinewidth": 0,
              "ticks": ""
             }
            },
            "type": "scatterpolar"
           }
          ],
          "scatterpolargl": [
           {
            "marker": {
             "colorbar": {
              "outlinewidth": 0,
              "ticks": ""
             }
            },
            "type": "scatterpolargl"
           }
          ],
          "scatterternary": [
           {
            "marker": {
             "colorbar": {
              "outlinewidth": 0,
              "ticks": ""
             }
            },
            "type": "scatterternary"
           }
          ],
          "surface": [
           {
            "colorbar": {
             "outlinewidth": 0,
             "ticks": ""
            },
            "colorscale": [
             [
              0,
              "#0d0887"
             ],
             [
              0.1111111111111111,
              "#46039f"
             ],
             [
              0.2222222222222222,
              "#7201a8"
             ],
             [
              0.3333333333333333,
              "#9c179e"
             ],
             [
              0.4444444444444444,
              "#bd3786"
             ],
             [
              0.5555555555555556,
              "#d8576b"
             ],
             [
              0.6666666666666666,
              "#ed7953"
             ],
             [
              0.7777777777777778,
              "#fb9f3a"
             ],
             [
              0.8888888888888888,
              "#fdca26"
             ],
             [
              1,
              "#f0f921"
             ]
            ],
            "type": "surface"
           }
          ],
          "table": [
           {
            "cells": {
             "fill": {
              "color": "#EBF0F8"
             },
             "line": {
              "color": "white"
             }
            },
            "header": {
             "fill": {
              "color": "#C8D4E3"
             },
             "line": {
              "color": "white"
             }
            },
            "type": "table"
           }
          ]
         },
         "layout": {
          "annotationdefaults": {
           "arrowcolor": "#2a3f5f",
           "arrowhead": 0,
           "arrowwidth": 1
          },
          "autotypenumbers": "strict",
          "coloraxis": {
           "colorbar": {
            "outlinewidth": 0,
            "ticks": ""
           }
          },
          "colorscale": {
           "diverging": [
            [
             0,
             "#8e0152"
            ],
            [
             0.1,
             "#c51b7d"
            ],
            [
             0.2,
             "#de77ae"
            ],
            [
             0.3,
             "#f1b6da"
            ],
            [
             0.4,
             "#fde0ef"
            ],
            [
             0.5,
             "#f7f7f7"
            ],
            [
             0.6,
             "#e6f5d0"
            ],
            [
             0.7,
             "#b8e186"
            ],
            [
             0.8,
             "#7fbc41"
            ],
            [
             0.9,
             "#4d9221"
            ],
            [
             1,
             "#276419"
            ]
           ],
           "sequential": [
            [
             0,
             "#0d0887"
            ],
            [
             0.1111111111111111,
             "#46039f"
            ],
            [
             0.2222222222222222,
             "#7201a8"
            ],
            [
             0.3333333333333333,
             "#9c179e"
            ],
            [
             0.4444444444444444,
             "#bd3786"
            ],
            [
             0.5555555555555556,
             "#d8576b"
            ],
            [
             0.6666666666666666,
             "#ed7953"
            ],
            [
             0.7777777777777778,
             "#fb9f3a"
            ],
            [
             0.8888888888888888,
             "#fdca26"
            ],
            [
             1,
             "#f0f921"
            ]
           ],
           "sequentialminus": [
            [
             0,
             "#0d0887"
            ],
            [
             0.1111111111111111,
             "#46039f"
            ],
            [
             0.2222222222222222,
             "#7201a8"
            ],
            [
             0.3333333333333333,
             "#9c179e"
            ],
            [
             0.4444444444444444,
             "#bd3786"
            ],
            [
             0.5555555555555556,
             "#d8576b"
            ],
            [
             0.6666666666666666,
             "#ed7953"
            ],
            [
             0.7777777777777778,
             "#fb9f3a"
            ],
            [
             0.8888888888888888,
             "#fdca26"
            ],
            [
             1,
             "#f0f921"
            ]
           ]
          },
          "colorway": [
           "#636efa",
           "#EF553B",
           "#00cc96",
           "#ab63fa",
           "#FFA15A",
           "#19d3f3",
           "#FF6692",
           "#B6E880",
           "#FF97FF",
           "#FECB52"
          ],
          "font": {
           "color": "#2a3f5f"
          },
          "geo": {
           "bgcolor": "white",
           "lakecolor": "white",
           "landcolor": "#E5ECF6",
           "showlakes": true,
           "showland": true,
           "subunitcolor": "white"
          },
          "hoverlabel": {
           "align": "left"
          },
          "hovermode": "closest",
          "mapbox": {
           "style": "light"
          },
          "paper_bgcolor": "white",
          "plot_bgcolor": "#E5ECF6",
          "polar": {
           "angularaxis": {
            "gridcolor": "white",
            "linecolor": "white",
            "ticks": ""
           },
           "bgcolor": "#E5ECF6",
           "radialaxis": {
            "gridcolor": "white",
            "linecolor": "white",
            "ticks": ""
           }
          },
          "scene": {
           "xaxis": {
            "backgroundcolor": "#E5ECF6",
            "gridcolor": "white",
            "gridwidth": 2,
            "linecolor": "white",
            "showbackground": true,
            "ticks": "",
            "zerolinecolor": "white"
           },
           "yaxis": {
            "backgroundcolor": "#E5ECF6",
            "gridcolor": "white",
            "gridwidth": 2,
            "linecolor": "white",
            "showbackground": true,
            "ticks": "",
            "zerolinecolor": "white"
           },
           "zaxis": {
            "backgroundcolor": "#E5ECF6",
            "gridcolor": "white",
            "gridwidth": 2,
            "linecolor": "white",
            "showbackground": true,
            "ticks": "",
            "zerolinecolor": "white"
           }
          },
          "shapedefaults": {
           "line": {
            "color": "#2a3f5f"
           }
          },
          "ternary": {
           "aaxis": {
            "gridcolor": "white",
            "linecolor": "white",
            "ticks": ""
           },
           "baxis": {
            "gridcolor": "white",
            "linecolor": "white",
            "ticks": ""
           },
           "bgcolor": "#E5ECF6",
           "caxis": {
            "gridcolor": "white",
            "linecolor": "white",
            "ticks": ""
           }
          },
          "title": {
           "x": 0.05
          },
          "xaxis": {
           "automargin": true,
           "gridcolor": "white",
           "linecolor": "white",
           "ticks": "",
           "title": {
            "standoff": 15
           },
           "zerolinecolor": "white",
           "zerolinewidth": 2
          },
          "yaxis": {
           "automargin": true,
           "gridcolor": "white",
           "linecolor": "white",
           "ticks": "",
           "title": {
            "standoff": 15
           },
           "zerolinecolor": "white",
           "zerolinewidth": 2
          }
         }
        },
        "title": {
         "text": "Gantt Chart (with numeric x-axis using Plotly)"
        },
        "xaxis": {
         "title": {
          "text": "Time (unit)"
         },
         "type": "linear"
        },
        "yaxis": {
         "autorange": "reversed",
         "ticktext": [
          "Machine 0",
          "Machine 1",
          "Machine 10",
          "Machine 11",
          "Machine 12",
          "Machine 13",
          "Machine 2",
          "Machine 3",
          "Machine 4",
          "Machine 5",
          "Machine 6",
          "Machine 7",
          "Machine 8",
          "Machine 9"
         ],
         "tickvals": [
          0,
          1,
          2,
          3,
          4,
          5,
          6,
          7,
          8,
          9,
          10,
          11,
          12,
          13
         ],
         "title": {
          "text": "Machine"
         }
        }
       }
      }
     },
     "metadata": {},
     "output_type": "display_data"
    }
   ],
   "source": [
    "import plotly.express as px\n",
    "import plotly.graph_objects as go\n",
    "import pandas as pd\n",
    "\n",
    "ganttData = []\n",
    "for j in range(J):\n",
    "    idMachine = int(np.argmax(z.value[j], axis=0))\n",
    "    if (j >= 14) and (matrixPcard[j-1] != matrixPcard[j]):\n",
    "        ganttData.append({\n",
    "        'Job': f'Setup {j}',\n",
    "        'Start': float(C.value[j] - p[j] - r*int(matrixPcard[j-1] != matrixPcard[j])),\n",
    "        'End': float(C.value[j] - p[j]),\n",
    "        'Machine': f'Machine {idMachine}'\n",
    "    })\n",
    "    ganttData.append({\n",
    "        'Job': f'Job {j}',\n",
    "        'Start': float(C.value[j] - p[j]),\n",
    "        'End': float(C.value[j]),\n",
    "        'Machine': f'Machine {idMachine}'\n",
    "    })\n",
    "dfGantt = pd.DataFrame(ganttData)\n",
    "\n",
    "machine_list = sorted(dfGantt[\"Machine\"].unique())\n",
    "machine_to_y = {machine: idx for idx, machine in enumerate(machine_list)}\n",
    "\n",
    "# Plotly 그래프 객체 초기화\n",
    "fig = go.Figure()\n",
    "\n",
    "# 각 작업/Setup을 개별 막대로 그림\n",
    "for _, row in dfGantt.iterrows():\n",
    "    fig.add_trace(go.Bar(\n",
    "        x=[row[\"End\"] - row[\"Start\"]],\n",
    "        y=[machine_to_y[row[\"Machine\"]]],\n",
    "        base=[row[\"Start\"]],\n",
    "        orientation='h',\n",
    "        name=row[\"Job\"],\n",
    "        hovertext=f'{row[\"Job\"]}: {row[\"Start\"]} ~ {row[\"End\"]}',\n",
    "        hoverinfo='text',\n",
    "        marker_color=\"lightcoral\" if \"Setup\" in row[\"Job\"] else \"skyblue\",\n",
    "        showlegend=False\n",
    "    ))\n",
    "\n",
    "# y축 설정\n",
    "fig.update_yaxes(\n",
    "    tickvals=list(machine_to_y.values()),\n",
    "    ticktext=list(machine_to_y.keys()),\n",
    "    title=\"Machine\",\n",
    "    autorange=\"reversed\"\n",
    ")\n",
    "\n",
    "# x축 수치형으로 설정\n",
    "fig.update_xaxes(title=\"Time (unit)\", type='linear')\n",
    "\n",
    "# 기타 레이아웃\n",
    "fig.update_layout(\n",
    "    title=\"Gantt Chart (with numeric x-axis using Plotly)\",\n",
    "    barmode='stack',\n",
    "    height=300 + 50 * len(machine_to_y)\n",
    ")\n",
    "\n",
    "fig.show()"
   ]
  },
  {
   "cell_type": "code",
   "execution_count": null,
   "id": "b3895a4d",
   "metadata": {},
   "outputs": [],
   "source": []
  }
 ],
 "metadata": {
  "kernelspec": {
   "display_name": "Python 3",
   "language": "python",
   "name": "python3"
  },
  "language_info": {
   "codemirror_mode": {
    "name": "ipython",
    "version": 3
   },
   "file_extension": ".py",
   "mimetype": "text/x-python",
   "name": "python",
   "nbconvert_exporter": "python",
   "pygments_lexer": "ipython3",
   "version": "3.11.5"
  }
 },
 "nbformat": 4,
 "nbformat_minor": 5
}
