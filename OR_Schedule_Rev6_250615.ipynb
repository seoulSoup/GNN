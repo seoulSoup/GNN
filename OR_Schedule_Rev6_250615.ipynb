{
 "cells": [
  {
   "cell_type": "code",
   "execution_count": 1,
   "id": "e5702c29",
   "metadata": {},
   "outputs": [],
   "source": [
    "import cvxpy as cp\n",
    "import numpy as np\n",
    "import random"
   ]
  },
  {
   "cell_type": "code",
   "execution_count": 2,
   "id": "696bc667",
   "metadata": {},
   "outputs": [],
   "source": [
    "def queueGenerator(numQueue):\n",
    "    listDataEquip, listDataPcard, listDataPtime, listDataPriority = [], [], [], []\n",
    "    listEquip = ['4082', 'V93K']\n",
    "    listPcard = ['AV44', 'FF44']\n",
    "\n",
    "    for _ in range(numQueue):\n",
    "        equip = random.choices(listEquip, weights=[0.8, 0.2])\n",
    "        pcard = random.choices(listPcard, weights=[0.8, 0.2])\n",
    "        # 0~100까지\n",
    "        ptime = np.random.beta(1, 5, 1).item()*100\n",
    "        priority = random.choices(range(0, 7), weights=[0.8, 0.01, 0.01, 0.01, 0.02, 0.05, 0.1])\n",
    "        listDataEquip.append(equip)\n",
    "        listDataPcard.append(pcard)\n",
    "        listDataPtime.append(ptime)\n",
    "        listDataPriority.append(priority)\n",
    "    return listDataEquip, listDataPcard, listDataPtime, listDataPriority\n",
    "\n",
    "numQueue = int(np.random.beta(1, 5, 1).item()*50 + 30)\n",
    "listDataEquip, matrixPcard, p, priority = queueGenerator(numQueue)"
   ]
  },
  {
   "cell_type": "code",
   "execution_count": null,
   "id": "d5ebb88f",
   "metadata": {},
   "outputs": [
    {
     "name": "stdout",
     "output_type": "stream",
     "text": [
      "===============================================================================\n",
      "                                     CVXPY                                     \n",
      "                                     v1.6.5                                    \n",
      "===============================================================================\n",
      "(CVXPY) Jun 14 04:11:50 AM: Your problem has 2596 variables, 26661 constraints, and 0 parameters.\n",
      "(CVXPY) Jun 14 04:11:54 AM: It is compliant with the following grammars: DCP, DQCP\n",
      "(CVXPY) Jun 14 04:11:54 AM: (If you need to solve this problem multiple times, but with different data, consider using parameters.)\n",
      "(CVXPY) Jun 14 04:11:54 AM: CVXPY will first compile your problem; then, it will invoke a numerical solver to obtain a solution.\n",
      "(CVXPY) Jun 14 04:11:54 AM: Your problem is compiled with the CPP canonicalization backend.\n",
      "-------------------------------------------------------------------------------\n",
      "                                  Compilation                                  \n",
      "-------------------------------------------------------------------------------\n",
      "(CVXPY) Jun 14 04:11:58 AM: Compiling problem (target solver=HIGHS).\n",
      "(CVXPY) Jun 14 04:11:58 AM: Reduction chain: Dcp2Cone -> CvxAttr2Constr -> ConeMatrixStuffing -> HIGHS\n",
      "(CVXPY) Jun 14 04:11:58 AM: Applying reduction Dcp2Cone\n",
      "(CVXPY) Jun 14 04:12:03 AM: Applying reduction CvxAttr2Constr\n",
      "(CVXPY) Jun 14 04:12:09 AM: Applying reduction ConeMatrixStuffing\n",
      "(CVXPY) Jun 14 04:12:51 AM: Applying reduction HIGHS\n",
      "(CVXPY) Jun 14 04:12:53 AM: Finished problem compilation (took 5.865e+01 seconds).\n",
      "-------------------------------------------------------------------------------\n",
      "                                Numerical solver                               \n",
      "-------------------------------------------------------------------------------\n",
      "(CVXPY) Jun 14 04:12:53 AM: Invoking solver HIGHS  to obtain a solution.\n"
     ]
    }
   ],
   "source": [
    "J = len(listDataEquip) # number of jobs\n",
    "M = 14 # number of machines\n",
    "st = 0.16 # release time\n",
    "BIG_M = 1000\n",
    "matrixEquip = np.array([[listDataEquip[j] == listDataEquip[m] for j in range(J)] for m in range(M)])\n",
    "C = cp.Variable(J, nonneg=True)\n",
    "z = cp.Variable((J, M), boolean=True) # 할당 여부\n",
    "o = cp.Variable((J, J), boolean=True) # 순서 결정\n",
    "\n",
    "def warm_start_heuristic(J, M, p, matrixEquip, matrixPcard, st=0.16):\n",
    "    C_init = np.zeros(J)\n",
    "    z_init = np.zeros((J, M))\n",
    "    o_init = np.zeros((J, J))\n",
    "    machine_ready = np.zeros(M)\n",
    "    last_pcard = [\"\"] * M\n",
    "\n",
    "    # Step 1: Job 0~13 → Machine 0~13 고정 할당\n",
    "    for j in range(M):\n",
    "        z_init[j, j] = 1\n",
    "        start_time = machine_ready[j]\n",
    "        process_time = p[j]\n",
    "        C_init[j] = start_time + process_time\n",
    "        machine_ready[j] = C_init[j]\n",
    "        last_pcard[j] = matrixPcard[j]\n",
    "        # 순서정보: j보다 큰 job들에 대해 j가 먼저라고 설정\n",
    "        for k in range(j+1, J):\n",
    "            o_init[j, k] = 1\n",
    "\n",
    "    # Step 2: 나머지 Job → 가능한 머신 중 가장 빨리 끝나는 곳에 할당\n",
    "    for j in range(M, J):\n",
    "        compatible_machines = [m for m in range(M) if matrixEquip[m][j]]\n",
    "        if not compatible_machines:\n",
    "            continue  # 할당 불가 → skip\n",
    "        # setup time 고려한 실제 시작 가능 시간 계산\n",
    "        earliest_times = [\n",
    "            machine_ready[m] + (st if matrixPcard[j] != last_pcard[m] else 0)\n",
    "            for m in compatible_machines\n",
    "        ]\n",
    "        m_best = compatible_machines[np.argmin(earliest_times)]\n",
    "        start_time = earliest_times[np.argmin(earliest_times)]\n",
    "        z_init[j, m_best] = 1\n",
    "        C_init[j] = start_time + p[j]\n",
    "        machine_ready[m_best] = C_init[j]\n",
    "        last_pcard[m_best] = matrixPcard[j]\n",
    "\n",
    "        # 순서 정보 설정\n",
    "        for k in range(J):\n",
    "            if k == j: continue\n",
    "            if z_init[k, m_best] == 1 and C_init[k] <= start_time:\n",
    "                o_init[k, j] = 1\n",
    "\n",
    "    return z_init, o_init, C_init\n",
    "\n",
    "z_init, o_init, C_init = warm_start_heuristic(J, M, p, matrixEquip, matrixPcard, st=0.16)\n",
    "z.value = z_init\n",
    "o.value = o_init\n",
    "C.value = C_init\n",
    "\n",
    "# ----- 제약 조건 정의 -----\n",
    "constraints = []\n",
    "\n",
    "# 각 Job은 정확히 하나의 Machine에 할당\n",
    "for j in range(J):\n",
    "    constraints.append(cp.sum(z[j, :]) == 1)\n",
    "    if j < M:\n",
    "        constraints.append(z[j, j] == 1)\n",
    "        constraints.append(C[j] == p[j])\n",
    "        for k in range(M, J):\n",
    "            constraints.append(o[j, k] == 1)\n",
    "    else:\n",
    "        constraints.append(C[j] >= p[j])\n",
    "    \n",
    "\n",
    "    \n",
    "\n",
    "# 장비 호환성\n",
    "for j in range(M, J):\n",
    "    for m in range(M):\n",
    "        if not matrixEquip[m][j]:\n",
    "            constraints.append(z[j, m] == 0)  \n",
    "        \n",
    "\n",
    "# 순서제약: 같은 machine에 할당된 job들만\n",
    "for i in range(J):\n",
    "    for j in range(J):\n",
    "        if i < j:\n",
    "            # constraints.append(o[i, j] + o[j, i] <= 1)\n",
    "            compatible_machines = [m for m in range(M) if matrixEquip[m, i] and matrixEquip[m, j]]\n",
    "            if not compatible_machines:\n",
    "                continue  # skip if no compatible machine pair\n",
    "            for m in compatible_machines:\n",
    "                constraints.append(\n",
    "                    C[j] >= C[i] + p[j] + st * (matrixPcard[i] != matrixPcard[j])\n",
    "                    - BIG_M * (3 - z[i, m] - z[j, m] - o[i, j])\n",
    "                )\n",
    "                constraints.append(\n",
    "                    C[i] >= C[j] + p[i] + st * (matrixPcard[i] != matrixPcard[j])\n",
    "                    - BIG_M * (3 - z[i, m] - z[j, m] - o[j, i])\n",
    "                )\n",
    "                \n",
    "                # 동일 machine에 2개의 job이 있을 경우 반드시 순서가 존재해야함\n",
    "                # constraints.append(z[i, m] + z[j, m] <= 1 + o[i, j] + o[j, i])\n",
    "                if (i >= M) and (j >= M):\n",
    "                    # 우선순위 반영 (높은 priority가 먼저)\n",
    "                    if priority[i] < priority[j]:\n",
    "                        constraints.append(o[j, i] >= z[i, m] + z[j, m] - 1)\n",
    "                    else:\n",
    "                        constraints.append(o[i, j] >= z[i, m] + z[j, m] - 1)\n",
    "                else:\n",
    "                    constraints.append(o[i, j] >= z[i, m] + z[j, m] - 1)\n",
    "                # constraints.append(o[i, j] + o[j, i] >= z[i, m] + z[j, m] - 1)\n",
    "\n",
    "# priority_penalty_terms = []\n",
    "# for i in range(J):\n",
    "#     for j in range(J):\n",
    "#         if i < j and priority[i] < priority[j]:\n",
    "#             priority_penalty_terms.append(1 - o[j, i])  # o[j, i]가 1이 아니면 패널티 발생\n",
    "                \n",
    "# 우선순위 반영 (높은 priority가 먼저)\n",
    "# for i in range(M, J):\n",
    "#     for j in range(M, J):\n",
    "#         if priority[i] > priority[j]:\n",
    "#             constraints.append(o[i, j] == 1)\n",
    "#         elif priority[i] < priority[j]:\n",
    "#             constraints.append(o[j, i] == 1)\n",
    "#         elif i < j:\n",
    "#             constraints.append(o[i, j] == 1)\n",
    "\n",
    "# ----- 목적 함수: 평균 완료 시간 최소화 -----\n",
    "obj = cp.Minimize(cp.mean(C))\n",
    "# alpha = 10.0  # 우선순위 위반 패널티 가중치\n",
    "# obj = cp.Minimize(\n",
    "#     cp.mean(C) + alpha * cp.sum(priority_penalty_terms)\n",
    "# )\n",
    "\n",
    "# ----- 문제 정의 및 풀기 -----\n",
    "prob = cp.Problem(obj, constraints)\n",
    "# prob.solve(solver=cp.HIGHS, verbose=True, time_limit=600)\n",
    "prob.solve(solver=cp.HIGHS, verbose=True)\n",
    "\n",
    "# ----- 결과 출력 -----\n",
    "print('상태:', prob.status)\n",
    "print('평균 Start Time:', prob.value)"
   ]
  },
  {
   "cell_type": "code",
   "execution_count": 4,
   "id": "485f049e",
   "metadata": {},
   "outputs": [
    {
     "data": {
      "application/vnd.plotly.v1+json": {
       "config": {
        "plotlyServerURL": "https://plot.ly"
       },
       "data": [
        {
         "base": [
          0
         ],
         "hoverinfo": "text",
         "hovertext": "Job 0: 0.0 ~ 62.603500758682564 | [0] | ['AV44']",
         "name": "Job 0",
         "orientation": "h",
         "showlegend": false,
         "type": "bar",
         "x": [
          62.603500758682564
         ],
         "y": [
          0
         ]
        },
        {
         "base": [
          0
         ],
         "hoverinfo": "text",
         "hovertext": "Job 1: 0.0 ~ 7.32651340744421 | [0] | ['AV44']",
         "name": "Job 1",
         "orientation": "h",
         "showlegend": false,
         "type": "bar",
         "x": [
          7.32651340744421
         ],
         "y": [
          1
         ]
        },
        {
         "base": [
          0
         ],
         "hoverinfo": "text",
         "hovertext": "Job 2: 0.0 ~ 6.8614065251792695 | [0] | ['AV44']",
         "name": "Job 2",
         "orientation": "h",
         "showlegend": false,
         "type": "bar",
         "x": [
          6.8614065251792695
         ],
         "y": [
          6
         ]
        },
        {
         "base": [
          0
         ],
         "hoverinfo": "text",
         "hovertext": "Job 3: 0.0 ~ 6.07189249868782 | [0] | ['AV44']",
         "name": "Job 3",
         "orientation": "h",
         "showlegend": false,
         "type": "bar",
         "x": [
          6.07189249868782
         ],
         "y": [
          7
         ]
        },
        {
         "base": [
          0
         ],
         "hoverinfo": "text",
         "hovertext": "Job 4: 0.0 ~ 62.26696118728632 | [0] | ['AV44']",
         "name": "Job 4",
         "orientation": "h",
         "showlegend": false,
         "type": "bar",
         "x": [
          62.26696118728632
         ],
         "y": [
          8
         ]
        },
        {
         "base": [
          0
         ],
         "hoverinfo": "text",
         "hovertext": "Job 5: 0.0 ~ 27.041189320560505 | [5] | ['AV44']",
         "name": "Job 5",
         "orientation": "h",
         "showlegend": false,
         "type": "bar",
         "x": [
          27.041189320560505
         ],
         "y": [
          9
         ]
        },
        {
         "base": [
          0
         ],
         "hoverinfo": "text",
         "hovertext": "Job 6: 0.0 ~ 40.967001768433136 | [0] | ['AV44']",
         "name": "Job 6",
         "orientation": "h",
         "showlegend": false,
         "type": "bar",
         "x": [
          40.967001768433136
         ],
         "y": [
          10
         ]
        },
        {
         "base": [
          0
         ],
         "hoverinfo": "text",
         "hovertext": "Job 7: 0.0 ~ 2.4156528635132917 | [0] | ['AV44']",
         "name": "Job 7",
         "orientation": "h",
         "showlegend": false,
         "type": "bar",
         "x": [
          2.4156528635132917
         ],
         "y": [
          11
         ]
        },
        {
         "base": [
          0
         ],
         "hoverinfo": "text",
         "hovertext": "Job 8: 0.0 ~ 21.87740222596287 | [5] | ['FF44']",
         "name": "Job 8",
         "orientation": "h",
         "showlegend": false,
         "type": "bar",
         "x": [
          21.87740222596287
         ],
         "y": [
          12
         ]
        },
        {
         "base": [
          0
         ],
         "hoverinfo": "text",
         "hovertext": "Job 9: 0.0 ~ 24.367630278909548 | [0] | ['AV44']",
         "name": "Job 9",
         "orientation": "h",
         "showlegend": false,
         "type": "bar",
         "x": [
          24.367630278909548
         ],
         "y": [
          13
         ]
        },
        {
         "base": [
          0
         ],
         "hoverinfo": "text",
         "hovertext": "Job 10: 0.0 ~ 21.4181005729638 | [0] | ['FF44']",
         "name": "Job 10",
         "orientation": "h",
         "showlegend": false,
         "type": "bar",
         "x": [
          21.4181005729638
         ],
         "y": [
          2
         ]
        },
        {
         "base": [
          0
         ],
         "hoverinfo": "text",
         "hovertext": "Job 11: 0.0 ~ 16.71709572723761 | [0] | ['FF44']",
         "name": "Job 11",
         "orientation": "h",
         "showlegend": false,
         "type": "bar",
         "x": [
          16.71709572723761
         ],
         "y": [
          3
         ]
        },
        {
         "base": [
          0
         ],
         "hoverinfo": "text",
         "hovertext": "Job 12: 0.0 ~ 10.386400899502974 | [0] | ['FF44']",
         "name": "Job 12",
         "orientation": "h",
         "showlegend": false,
         "type": "bar",
         "x": [
          10.386400899502974
         ],
         "y": [
          4
         ]
        },
        {
         "base": [
          0
         ],
         "hoverinfo": "text",
         "hovertext": "Job 13: 0.0 ~ 4.561150834950472 | [0] | ['FF44']",
         "name": "Job 13",
         "orientation": "h",
         "showlegend": false,
         "type": "bar",
         "x": [
          4.561150834950472
         ],
         "y": [
          5
         ]
        },
        {
         "base": [
          6.071892498687918
         ],
         "hoverinfo": "text",
         "hovertext": "Job 14: 6.071892498687918 ~ 13.05046941445187 | [0] | ['AV44']",
         "name": "Job 14",
         "orientation": "h",
         "showlegend": false,
         "type": "bar",
         "x": [
          6.978576915763952
         ],
         "y": [
          7
         ]
        },
        {
         "base": [
          20.05820855730143
         ],
         "hoverinfo": "text",
         "hovertext": "Setup 15: 20.05820855730143 ~ 20.21820855730143 | [0] | ['FF44']",
         "name": "Setup 15",
         "orientation": "h",
         "showlegend": false,
         "type": "bar",
         "x": [
          0.16000000000000014
         ],
         "y": [
          1
         ]
        },
        {
         "base": [
          20.21820855730143
         ],
         "hoverinfo": "text",
         "hovertext": "Job 15: 20.21820855730143 ~ 42.33615253933136 | [0] | ['FF44']",
         "name": "Job 15",
         "orientation": "h",
         "showlegend": false,
         "type": "bar",
         "x": [
          22.117943982029928
         ],
         "y": [
          1
         ]
        },
        {
         "base": [
          2.4156528635133263
         ],
         "hoverinfo": "text",
         "hovertext": "Job 16: 2.4156528635133263 ~ 6.956695266201795 | [0] | ['AV44']",
         "name": "Job 16",
         "orientation": "h",
         "showlegend": false,
         "type": "bar",
         "x": [
          4.541042402688468
         ],
         "y": [
          11
         ]
        },
        {
         "base": [
          27.04118932056075
         ],
         "hoverinfo": "text",
         "hovertext": "Job 17: 27.04118932056075 ~ 27.589926945851403 | [6] | ['AV44']",
         "name": "Job 17",
         "orientation": "h",
         "showlegend": false,
         "type": "bar",
         "x": [
          0.5487376252906522
         ],
         "y": [
          9
         ]
        },
        {
         "base": [
          13.050469414451698
         ],
         "hoverinfo": "text",
         "hovertext": "Setup 18: 13.050469414451698 ~ 13.210469414451698 | [0] | ['FF44']",
         "name": "Setup 18",
         "orientation": "h",
         "showlegend": false,
         "type": "bar",
         "x": [
          0.16000000000000014
         ],
         "y": [
          7
         ]
        },
        {
         "base": [
          13.210469414451698
         ],
         "hoverinfo": "text",
         "hovertext": "Job 18: 13.210469414451698 ~ 29.49431401135496 | [0] | ['FF44']",
         "name": "Job 18",
         "orientation": "h",
         "showlegend": false,
         "type": "bar",
         "x": [
          16.28384459690326
         ],
         "y": [
          7
         ]
        },
        {
         "base": [
          74.25677911198676
         ],
         "hoverinfo": "text",
         "hovertext": "Job 19: 74.25677911198676 ~ 98.68891360987618 | [0] | ['AV44']",
         "name": "Job 19",
         "orientation": "h",
         "showlegend": false,
         "type": "bar",
         "x": [
          24.43213449788942
         ],
         "y": [
          9
         ]
        },
        {
         "base": [
          29.49431401135501
         ],
         "hoverinfo": "text",
         "hovertext": "Setup 20: 29.49431401135501 ~ 29.65431401135501 | [0] | ['AV44']",
         "name": "Setup 20",
         "orientation": "h",
         "showlegend": false,
         "type": "bar",
         "x": [
          0.16000000000000014
         ],
         "y": [
          7
         ]
        },
        {
         "base": [
          29.65431401135501
         ],
         "hoverinfo": "text",
         "hovertext": "Job 20: 29.65431401135501 ~ 54.20745383705196 | [0] | ['AV44']",
         "name": "Job 20",
         "orientation": "h",
         "showlegend": false,
         "type": "bar",
         "x": [
          24.55313982569695
         ],
         "y": [
          7
         ]
        },
        {
         "base": [
          21.877402225963003
         ],
         "hoverinfo": "text",
         "hovertext": "Setup 21: 21.877402225963003 ~ 22.037402225963003 | [0] | ['AV44']",
         "name": "Setup 21",
         "orientation": "h",
         "showlegend": false,
         "type": "bar",
         "x": [
          0.16000000000000014
         ],
         "y": [
          12
         ]
        },
        {
         "base": [
          22.037402225963003
         ],
         "hoverinfo": "text",
         "hovertext": "Job 21: 22.037402225963003 ~ 39.38276062592081 | [0] | ['AV44']",
         "name": "Job 21",
         "orientation": "h",
         "showlegend": false,
         "type": "bar",
         "x": [
          17.345358399957806
         ],
         "y": [
          12
         ]
        },
        {
         "base": [
          98.68891360987598
         ],
         "hoverinfo": "text",
         "hovertext": "Job 22: 98.68891360987598 ~ 118.07454503084409 | [0] | ['AV44']",
         "name": "Job 22",
         "orientation": "h",
         "showlegend": false,
         "type": "bar",
         "x": [
          19.38563142096811
         ],
         "y": [
          9
         ]
        },
        {
         "base": [
          27.589926945851445
         ],
         "hoverinfo": "text",
         "hovertext": "Job 23: 27.589926945851445 ~ 58.402049948540935 | [6] | ['AV44']",
         "name": "Job 23",
         "orientation": "h",
         "showlegend": false,
         "type": "bar",
         "x": [
          30.81212300268949
         ],
         "y": [
          9
         ]
        },
        {
         "base": [
          6.956695266201679
         ],
         "hoverinfo": "text",
         "hovertext": "Job 24: 6.956695266201679 ~ 9.14165649019981 | [0] | ['AV44']",
         "name": "Job 24",
         "orientation": "h",
         "showlegend": false,
         "type": "bar",
         "x": [
          2.1849612239981315
         ],
         "y": [
          11
         ]
        },
        {
         "base": [
          42.33615253933148
         ],
         "hoverinfo": "text",
         "hovertext": "Setup 25: 42.33615253933148 ~ 42.496152539331476 | [0] | ['AV44']",
         "name": "Setup 25",
         "orientation": "h",
         "showlegend": false,
         "type": "bar",
         "x": [
          0.1599999999999966
         ],
         "y": [
          1
         ]
        },
        {
         "base": [
          42.496152539331476
         ],
         "hoverinfo": "text",
         "hovertext": "Job 25: 42.496152539331476 ~ 69.81066146596481 | [0] | ['AV44']",
         "name": "Job 25",
         "orientation": "h",
         "showlegend": false,
         "type": "bar",
         "x": [
          27.314508926633337
         ],
         "y": [
          1
         ]
        },
        {
         "base": [
          6.959901044756269
         ],
         "hoverinfo": "text",
         "hovertext": "Job 26: 6.959901044756269 ~ 13.980586967422598 | [0] | ['FF44']",
         "name": "Job 26",
         "orientation": "h",
         "showlegend": false,
         "type": "bar",
         "x": [
          7.0206859226663285
         ],
         "y": [
          5
         ]
        },
        {
         "base": [
          9.141656490199601
         ],
         "hoverinfo": "text",
         "hovertext": "Job 27: 9.141656490199601 ~ 17.13874686625616 | [0] | ['AV44']",
         "name": "Job 27",
         "orientation": "h",
         "showlegend": false,
         "type": "bar",
         "x": [
          7.997090376056558
         ],
         "y": [
          11
         ]
        },
        {
         "base": [
          6.861406525179092
         ],
         "hoverinfo": "text",
         "hovertext": "Setup 28: 6.861406525179092 ~ 7.021406525179092 | [0] | ['FF44']",
         "name": "Setup 28",
         "orientation": "h",
         "showlegend": false,
         "type": "bar",
         "x": [
          0.16000000000000014
         ],
         "y": [
          6
         ]
        },
        {
         "base": [
          7.021406525179092
         ],
         "hoverinfo": "text",
         "hovertext": "Job 28: 7.021406525179092 ~ 11.649006303323176 | [0] | ['FF44']",
         "name": "Job 28",
         "orientation": "h",
         "showlegend": false,
         "type": "bar",
         "x": [
          4.627599778144084
         ],
         "y": [
          6
         ]
        },
        {
         "base": [
          17.13874686625636
         ],
         "hoverinfo": "text",
         "hovertext": "Job 29: 17.13874686625636 ~ 17.65135482571225 | [0] | ['AV44']",
         "name": "Job 29",
         "orientation": "h",
         "showlegend": false,
         "type": "bar",
         "x": [
          0.5126079594558917
         ],
         "y": [
          11
         ]
        },
        {
         "base": [
          7.326513407444246
         ],
         "hoverinfo": "text",
         "hovertext": "Setup 30: 7.326513407444246 ~ 7.486513407444246 | [2] | ['FF44']",
         "name": "Setup 30",
         "orientation": "h",
         "showlegend": false,
         "type": "bar",
         "x": [
          0.16000000000000014
         ],
         "y": [
          1
         ]
        },
        {
         "base": [
          7.486513407444246
         ],
         "hoverinfo": "text",
         "hovertext": "Job 30: 7.486513407444246 ~ 20.218208557301523 | [2] | ['FF44']",
         "name": "Job 30",
         "orientation": "h",
         "showlegend": false,
         "type": "bar",
         "x": [
          12.731695149857277
         ],
         "y": [
          1
         ]
        },
        {
         "base": [
          21.418100572963674
         ],
         "hoverinfo": "text",
         "hovertext": "Job 31: 21.418100572963674 ~ 23.225988213740038 | [0] | ['FF44']",
         "name": "Job 31",
         "orientation": "h",
         "showlegend": false,
         "type": "bar",
         "x": [
          1.8078876407763644
         ],
         "y": [
          2
         ]
        },
        {
         "base": [
          13.980586967422674
         ],
         "hoverinfo": "text",
         "hovertext": "Setup 32: 13.980586967422674 ~ 14.140586967422674 | [0] | ['AV44']",
         "name": "Setup 32",
         "orientation": "h",
         "showlegend": false,
         "type": "bar",
         "x": [
          0.16000000000000014
         ],
         "y": [
          5
         ]
        },
        {
         "base": [
          14.140586967422674
         ],
         "hoverinfo": "text",
         "hovertext": "Job 32: 14.140586967422674 ~ 17.56103657923427 | [0] | ['AV44']",
         "name": "Job 32",
         "orientation": "h",
         "showlegend": false,
         "type": "bar",
         "x": [
          3.420449611811595
         ],
         "y": [
          5
         ]
        },
        {
         "base": [
          10.38640089950308
         ],
         "hoverinfo": "text",
         "hovertext": "Job 33: 10.38640089950308 ~ 15.299420504713453 | [5] | ['FF44']",
         "name": "Job 33",
         "orientation": "h",
         "showlegend": false,
         "type": "bar",
         "x": [
          4.913019605210373
         ],
         "y": [
          4
         ]
        },
        {
         "base": [
          11.64900630332334
         ],
         "hoverinfo": "text",
         "hovertext": "Job 34: 11.64900630332334 ~ 15.165309903610478 | [0] | ['FF44']",
         "name": "Job 34",
         "orientation": "h",
         "showlegend": false,
         "type": "bar",
         "x": [
          3.516303600287138
         ],
         "y": [
          6
         ]
        },
        {
         "base": [
          58.402049948540856
         ],
         "hoverinfo": "text",
         "hovertext": "Job 35: 58.402049948540856 ~ 74.25677911198682 | [4] | ['AV44']",
         "name": "Job 35",
         "orientation": "h",
         "showlegend": false,
         "type": "bar",
         "x": [
          15.85472916344596
         ],
         "y": [
          9
         ]
        },
        {
         "base": [
          16.717095727237613
         ],
         "hoverinfo": "text",
         "hovertext": "Setup 36: 16.717095727237613 ~ 16.877095727237613 | [4] | ['AV44']",
         "name": "Setup 36",
         "orientation": "h",
         "showlegend": false,
         "type": "bar",
         "x": [
          0.16000000000000014
         ],
         "y": [
          3
         ]
        },
        {
         "base": [
          16.877095727237613
         ],
         "hoverinfo": "text",
         "hovertext": "Job 36: 16.877095727237613 ~ 23.15525394976817 | [4] | ['AV44']",
         "name": "Job 36",
         "orientation": "h",
         "showlegend": false,
         "type": "bar",
         "x": [
          6.278158222530557
         ],
         "y": [
          3
         ]
        },
        {
         "base": [
          17.56103657923445
         ],
         "hoverinfo": "text",
         "hovertext": "Setup 37: 17.56103657923445 ~ 17.72103657923445 | [0] | ['FF44']",
         "name": "Setup 37",
         "orientation": "h",
         "showlegend": false,
         "type": "bar",
         "x": [
          0.16000000000000014
         ],
         "y": [
          5
         ]
        },
        {
         "base": [
          17.72103657923445
         ],
         "hoverinfo": "text",
         "hovertext": "Job 37: 17.72103657923445 ~ 18.800980116863457 | [0] | ['FF44']",
         "name": "Job 37",
         "orientation": "h",
         "showlegend": false,
         "type": "bar",
         "x": [
          1.0799435376290063
         ],
         "y": [
          5
         ]
        },
        {
         "base": [
          15.299420504713332
         ],
         "hoverinfo": "text",
         "hovertext": "Job 38: 15.299420504713332 ~ 37.860072444619625 | [0] | ['FF44']",
         "name": "Job 38",
         "orientation": "h",
         "showlegend": false,
         "type": "bar",
         "x": [
          22.560651939906293
         ],
         "y": [
          4
         ]
        },
        {
         "base": [
          15.165309903610492
         ],
         "hoverinfo": "text",
         "hovertext": "Setup 39: 15.165309903610492 ~ 15.325309903610492 | [0] | ['AV44']",
         "name": "Setup 39",
         "orientation": "h",
         "showlegend": false,
         "type": "bar",
         "x": [
          0.16000000000000014
         ],
         "y": [
          6
         ]
        },
        {
         "base": [
          15.325309903610492
         ],
         "hoverinfo": "text",
         "hovertext": "Job 39: 15.325309903610492 ~ 39.0081556778257 | [0] | ['AV44']",
         "name": "Job 39",
         "orientation": "h",
         "showlegend": false,
         "type": "bar",
         "x": [
          23.682845774215206
         ],
         "y": [
          6
         ]
        },
        {
         "base": [
          18.80098011686368
         ],
         "hoverinfo": "text",
         "hovertext": "Setup 40: 18.80098011686368 ~ 18.96098011686368 | [0] | ['AV44']",
         "name": "Setup 40",
         "orientation": "h",
         "showlegend": false,
         "type": "bar",
         "x": [
          0.16000000000000014
         ],
         "y": [
          5
         ]
        },
        {
         "base": [
          18.96098011686368
         ],
         "hoverinfo": "text",
         "hovertext": "Job 40: 18.96098011686368 ~ 36.221564930954855 | [0] | ['AV44']",
         "name": "Job 40",
         "orientation": "h",
         "showlegend": false,
         "type": "bar",
         "x": [
          17.260584814091175
         ],
         "y": [
          5
         ]
        },
        {
         "base": [
          17.65135482571231
         ],
         "hoverinfo": "text",
         "hovertext": "Job 41: 17.65135482571231 ~ 36.62535377700226 | [0] | ['AV44']",
         "name": "Job 41",
         "orientation": "h",
         "showlegend": false,
         "type": "bar",
         "x": [
          18.97399895128995
         ],
         "y": [
          11
         ]
        },
        {
         "base": [
          4.721150834950276
         ],
         "hoverinfo": "text",
         "hovertext": "Job 42: 4.721150834950276 ~ 6.799901044756325 | [6] | ['AV44']",
         "name": "Job 42",
         "orientation": "h",
         "showlegend": false,
         "type": "bar",
         "x": [
          2.0787502098060493
         ],
         "y": [
          5
         ]
        },
        {
         "base": [
          118.07454503084406
         ],
         "hoverinfo": "text",
         "hovertext": "Job 43: 118.07454503084406 ~ 163.71959087780306 | [0] | ['AV44']",
         "name": "Job 43",
         "orientation": "h",
         "showlegend": false,
         "type": "bar",
         "x": [
          45.64504584695899
         ],
         "y": [
          9
         ]
        }
       ],
       "layout": {
        "barmode": "stack",
        "height": 1000,
        "template": {
         "data": {
          "bar": [
           {
            "error_x": {
             "color": "#2a3f5f"
            },
            "error_y": {
             "color": "#2a3f5f"
            },
            "marker": {
             "line": {
              "color": "#E5ECF6",
              "width": 0.5
             },
             "pattern": {
              "fillmode": "overlay",
              "size": 10,
              "solidity": 0.2
             }
            },
            "type": "bar"
           }
          ],
          "barpolar": [
           {
            "marker": {
             "line": {
              "color": "#E5ECF6",
              "width": 0.5
             },
             "pattern": {
              "fillmode": "overlay",
              "size": 10,
              "solidity": 0.2
             }
            },
            "type": "barpolar"
           }
          ],
          "carpet": [
           {
            "aaxis": {
             "endlinecolor": "#2a3f5f",
             "gridcolor": "white",
             "linecolor": "white",
             "minorgridcolor": "white",
             "startlinecolor": "#2a3f5f"
            },
            "baxis": {
             "endlinecolor": "#2a3f5f",
             "gridcolor": "white",
             "linecolor": "white",
             "minorgridcolor": "white",
             "startlinecolor": "#2a3f5f"
            },
            "type": "carpet"
           }
          ],
          "choropleth": [
           {
            "colorbar": {
             "outlinewidth": 0,
             "ticks": ""
            },
            "type": "choropleth"
           }
          ],
          "contour": [
           {
            "colorbar": {
             "outlinewidth": 0,
             "ticks": ""
            },
            "colorscale": [
             [
              0,
              "#0d0887"
             ],
             [
              0.1111111111111111,
              "#46039f"
             ],
             [
              0.2222222222222222,
              "#7201a8"
             ],
             [
              0.3333333333333333,
              "#9c179e"
             ],
             [
              0.4444444444444444,
              "#bd3786"
             ],
             [
              0.5555555555555556,
              "#d8576b"
             ],
             [
              0.6666666666666666,
              "#ed7953"
             ],
             [
              0.7777777777777778,
              "#fb9f3a"
             ],
             [
              0.8888888888888888,
              "#fdca26"
             ],
             [
              1,
              "#f0f921"
             ]
            ],
            "type": "contour"
           }
          ],
          "contourcarpet": [
           {
            "colorbar": {
             "outlinewidth": 0,
             "ticks": ""
            },
            "type": "contourcarpet"
           }
          ],
          "heatmap": [
           {
            "colorbar": {
             "outlinewidth": 0,
             "ticks": ""
            },
            "colorscale": [
             [
              0,
              "#0d0887"
             ],
             [
              0.1111111111111111,
              "#46039f"
             ],
             [
              0.2222222222222222,
              "#7201a8"
             ],
             [
              0.3333333333333333,
              "#9c179e"
             ],
             [
              0.4444444444444444,
              "#bd3786"
             ],
             [
              0.5555555555555556,
              "#d8576b"
             ],
             [
              0.6666666666666666,
              "#ed7953"
             ],
             [
              0.7777777777777778,
              "#fb9f3a"
             ],
             [
              0.8888888888888888,
              "#fdca26"
             ],
             [
              1,
              "#f0f921"
             ]
            ],
            "type": "heatmap"
           }
          ],
          "heatmapgl": [
           {
            "colorbar": {
             "outlinewidth": 0,
             "ticks": ""
            },
            "colorscale": [
             [
              0,
              "#0d0887"
             ],
             [
              0.1111111111111111,
              "#46039f"
             ],
             [
              0.2222222222222222,
              "#7201a8"
             ],
             [
              0.3333333333333333,
              "#9c179e"
             ],
             [
              0.4444444444444444,
              "#bd3786"
             ],
             [
              0.5555555555555556,
              "#d8576b"
             ],
             [
              0.6666666666666666,
              "#ed7953"
             ],
             [
              0.7777777777777778,
              "#fb9f3a"
             ],
             [
              0.8888888888888888,
              "#fdca26"
             ],
             [
              1,
              "#f0f921"
             ]
            ],
            "type": "heatmapgl"
           }
          ],
          "histogram": [
           {
            "marker": {
             "pattern": {
              "fillmode": "overlay",
              "size": 10,
              "solidity": 0.2
             }
            },
            "type": "histogram"
           }
          ],
          "histogram2d": [
           {
            "colorbar": {
             "outlinewidth": 0,
             "ticks": ""
            },
            "colorscale": [
             [
              0,
              "#0d0887"
             ],
             [
              0.1111111111111111,
              "#46039f"
             ],
             [
              0.2222222222222222,
              "#7201a8"
             ],
             [
              0.3333333333333333,
              "#9c179e"
             ],
             [
              0.4444444444444444,
              "#bd3786"
             ],
             [
              0.5555555555555556,
              "#d8576b"
             ],
             [
              0.6666666666666666,
              "#ed7953"
             ],
             [
              0.7777777777777778,
              "#fb9f3a"
             ],
             [
              0.8888888888888888,
              "#fdca26"
             ],
             [
              1,
              "#f0f921"
             ]
            ],
            "type": "histogram2d"
           }
          ],
          "histogram2dcontour": [
           {
            "colorbar": {
             "outlinewidth": 0,
             "ticks": ""
            },
            "colorscale": [
             [
              0,
              "#0d0887"
             ],
             [
              0.1111111111111111,
              "#46039f"
             ],
             [
              0.2222222222222222,
              "#7201a8"
             ],
             [
              0.3333333333333333,
              "#9c179e"
             ],
             [
              0.4444444444444444,
              "#bd3786"
             ],
             [
              0.5555555555555556,
              "#d8576b"
             ],
             [
              0.6666666666666666,
              "#ed7953"
             ],
             [
              0.7777777777777778,
              "#fb9f3a"
             ],
             [
              0.8888888888888888,
              "#fdca26"
             ],
             [
              1,
              "#f0f921"
             ]
            ],
            "type": "histogram2dcontour"
           }
          ],
          "mesh3d": [
           {
            "colorbar": {
             "outlinewidth": 0,
             "ticks": ""
            },
            "type": "mesh3d"
           }
          ],
          "parcoords": [
           {
            "line": {
             "colorbar": {
              "outlinewidth": 0,
              "ticks": ""
             }
            },
            "type": "parcoords"
           }
          ],
          "pie": [
           {
            "automargin": true,
            "type": "pie"
           }
          ],
          "scatter": [
           {
            "fillpattern": {
             "fillmode": "overlay",
             "size": 10,
             "solidity": 0.2
            },
            "type": "scatter"
           }
          ],
          "scatter3d": [
           {
            "line": {
             "colorbar": {
              "outlinewidth": 0,
              "ticks": ""
             }
            },
            "marker": {
             "colorbar": {
              "outlinewidth": 0,
              "ticks": ""
             }
            },
            "type": "scatter3d"
           }
          ],
          "scattercarpet": [
           {
            "marker": {
             "colorbar": {
              "outlinewidth": 0,
              "ticks": ""
             }
            },
            "type": "scattercarpet"
           }
          ],
          "scattergeo": [
           {
            "marker": {
             "colorbar": {
              "outlinewidth": 0,
              "ticks": ""
             }
            },
            "type": "scattergeo"
           }
          ],
          "scattergl": [
           {
            "marker": {
             "colorbar": {
              "outlinewidth": 0,
              "ticks": ""
             }
            },
            "type": "scattergl"
           }
          ],
          "scattermapbox": [
           {
            "marker": {
             "colorbar": {
              "outlinewidth": 0,
              "ticks": ""
             }
            },
            "type": "scattermapbox"
           }
          ],
          "scatterpolar": [
           {
            "marker": {
             "colorbar": {
              "outlinewidth": 0,
              "ticks": ""
             }
            },
            "type": "scatterpolar"
           }
          ],
          "scatterpolargl": [
           {
            "marker": {
             "colorbar": {
              "outlinewidth": 0,
              "ticks": ""
             }
            },
            "type": "scatterpolargl"
           }
          ],
          "scatterternary": [
           {
            "marker": {
             "colorbar": {
              "outlinewidth": 0,
              "ticks": ""
             }
            },
            "type": "scatterternary"
           }
          ],
          "surface": [
           {
            "colorbar": {
             "outlinewidth": 0,
             "ticks": ""
            },
            "colorscale": [
             [
              0,
              "#0d0887"
             ],
             [
              0.1111111111111111,
              "#46039f"
             ],
             [
              0.2222222222222222,
              "#7201a8"
             ],
             [
              0.3333333333333333,
              "#9c179e"
             ],
             [
              0.4444444444444444,
              "#bd3786"
             ],
             [
              0.5555555555555556,
              "#d8576b"
             ],
             [
              0.6666666666666666,
              "#ed7953"
             ],
             [
              0.7777777777777778,
              "#fb9f3a"
             ],
             [
              0.8888888888888888,
              "#fdca26"
             ],
             [
              1,
              "#f0f921"
             ]
            ],
            "type": "surface"
           }
          ],
          "table": [
           {
            "cells": {
             "fill": {
              "color": "#EBF0F8"
             },
             "line": {
              "color": "white"
             }
            },
            "header": {
             "fill": {
              "color": "#C8D4E3"
             },
             "line": {
              "color": "white"
             }
            },
            "type": "table"
           }
          ]
         },
         "layout": {
          "annotationdefaults": {
           "arrowcolor": "#2a3f5f",
           "arrowhead": 0,
           "arrowwidth": 1
          },
          "autotypenumbers": "strict",
          "coloraxis": {
           "colorbar": {
            "outlinewidth": 0,
            "ticks": ""
           }
          },
          "colorscale": {
           "diverging": [
            [
             0,
             "#8e0152"
            ],
            [
             0.1,
             "#c51b7d"
            ],
            [
             0.2,
             "#de77ae"
            ],
            [
             0.3,
             "#f1b6da"
            ],
            [
             0.4,
             "#fde0ef"
            ],
            [
             0.5,
             "#f7f7f7"
            ],
            [
             0.6,
             "#e6f5d0"
            ],
            [
             0.7,
             "#b8e186"
            ],
            [
             0.8,
             "#7fbc41"
            ],
            [
             0.9,
             "#4d9221"
            ],
            [
             1,
             "#276419"
            ]
           ],
           "sequential": [
            [
             0,
             "#0d0887"
            ],
            [
             0.1111111111111111,
             "#46039f"
            ],
            [
             0.2222222222222222,
             "#7201a8"
            ],
            [
             0.3333333333333333,
             "#9c179e"
            ],
            [
             0.4444444444444444,
             "#bd3786"
            ],
            [
             0.5555555555555556,
             "#d8576b"
            ],
            [
             0.6666666666666666,
             "#ed7953"
            ],
            [
             0.7777777777777778,
             "#fb9f3a"
            ],
            [
             0.8888888888888888,
             "#fdca26"
            ],
            [
             1,
             "#f0f921"
            ]
           ],
           "sequentialminus": [
            [
             0,
             "#0d0887"
            ],
            [
             0.1111111111111111,
             "#46039f"
            ],
            [
             0.2222222222222222,
             "#7201a8"
            ],
            [
             0.3333333333333333,
             "#9c179e"
            ],
            [
             0.4444444444444444,
             "#bd3786"
            ],
            [
             0.5555555555555556,
             "#d8576b"
            ],
            [
             0.6666666666666666,
             "#ed7953"
            ],
            [
             0.7777777777777778,
             "#fb9f3a"
            ],
            [
             0.8888888888888888,
             "#fdca26"
            ],
            [
             1,
             "#f0f921"
            ]
           ]
          },
          "colorway": [
           "#636efa",
           "#EF553B",
           "#00cc96",
           "#ab63fa",
           "#FFA15A",
           "#19d3f3",
           "#FF6692",
           "#B6E880",
           "#FF97FF",
           "#FECB52"
          ],
          "font": {
           "color": "#2a3f5f"
          },
          "geo": {
           "bgcolor": "white",
           "lakecolor": "white",
           "landcolor": "#E5ECF6",
           "showlakes": true,
           "showland": true,
           "subunitcolor": "white"
          },
          "hoverlabel": {
           "align": "left"
          },
          "hovermode": "closest",
          "mapbox": {
           "style": "light"
          },
          "paper_bgcolor": "white",
          "plot_bgcolor": "#E5ECF6",
          "polar": {
           "angularaxis": {
            "gridcolor": "white",
            "linecolor": "white",
            "ticks": ""
           },
           "bgcolor": "#E5ECF6",
           "radialaxis": {
            "gridcolor": "white",
            "linecolor": "white",
            "ticks": ""
           }
          },
          "scene": {
           "xaxis": {
            "backgroundcolor": "#E5ECF6",
            "gridcolor": "white",
            "gridwidth": 2,
            "linecolor": "white",
            "showbackground": true,
            "ticks": "",
            "zerolinecolor": "white"
           },
           "yaxis": {
            "backgroundcolor": "#E5ECF6",
            "gridcolor": "white",
            "gridwidth": 2,
            "linecolor": "white",
            "showbackground": true,
            "ticks": "",
            "zerolinecolor": "white"
           },
           "zaxis": {
            "backgroundcolor": "#E5ECF6",
            "gridcolor": "white",
            "gridwidth": 2,
            "linecolor": "white",
            "showbackground": true,
            "ticks": "",
            "zerolinecolor": "white"
           }
          },
          "shapedefaults": {
           "line": {
            "color": "#2a3f5f"
           }
          },
          "ternary": {
           "aaxis": {
            "gridcolor": "white",
            "linecolor": "white",
            "ticks": ""
           },
           "baxis": {
            "gridcolor": "white",
            "linecolor": "white",
            "ticks": ""
           },
           "bgcolor": "#E5ECF6",
           "caxis": {
            "gridcolor": "white",
            "linecolor": "white",
            "ticks": ""
           }
          },
          "title": {
           "x": 0.05
          },
          "xaxis": {
           "automargin": true,
           "gridcolor": "white",
           "linecolor": "white",
           "ticks": "",
           "title": {
            "standoff": 15
           },
           "zerolinecolor": "white",
           "zerolinewidth": 2
          },
          "yaxis": {
           "automargin": true,
           "gridcolor": "white",
           "linecolor": "white",
           "ticks": "",
           "title": {
            "standoff": 15
           },
           "zerolinecolor": "white",
           "zerolinewidth": 2
          }
         }
        },
        "title": {
         "text": "Gantt Chart (with numeric x-axis using Plotly)"
        },
        "xaxis": {
         "title": {
          "text": "Time (unit)"
         },
         "type": "linear"
        },
        "yaxis": {
         "autorange": "reversed",
         "ticktext": [
          "Machine 0",
          "Machine 1",
          "Machine 10",
          "Machine 11",
          "Machine 12",
          "Machine 13",
          "Machine 2",
          "Machine 3",
          "Machine 4",
          "Machine 5",
          "Machine 6",
          "Machine 7",
          "Machine 8",
          "Machine 9"
         ],
         "tickvals": [
          0,
          1,
          2,
          3,
          4,
          5,
          6,
          7,
          8,
          9,
          10,
          11,
          12,
          13
         ],
         "title": {
          "text": "Machine"
         }
        }
       }
      }
     },
     "metadata": {},
     "output_type": "display_data"
    }
   ],
   "source": [
    "import plotly.express as px\n",
    "import plotly.graph_objects as go\n",
    "import pandas as pd\n",
    "\n",
    "ganttData = []\n",
    "for j in range(J):\n",
    "    idxMachine = int(np.argmax(z.value[j], axis=0))\n",
    "    \n",
    "    # 직전 할당된 job과 pcard 차이가 있는지 확인인\n",
    "    if (j >= M): \n",
    "        arrayZ = z[:, idxMachine].value\n",
    "        idxBeforeJob = np.where(arrayZ[:j])[0][-1]\n",
    "        if (matrixPcard[idxBeforeJob] != matrixPcard[j]):\n",
    "            ganttData.append({\n",
    "            'Job': f'Setup {j}',\n",
    "            'Priority': priority[j],\n",
    "            'Pcard': matrixPcard[j],\n",
    "            'Start': float(C.value[j] - p[j] - st),\n",
    "            'End': float(C.value[j] - p[j]),\n",
    "            'Machine': f'Machine {idxMachine}'\n",
    "        })\n",
    "    ganttData.append({\n",
    "        'Job': f'Job {j}',\n",
    "        'Priority': priority[j],\n",
    "        'Pcard': matrixPcard[j],\n",
    "        'Start': float(C.value[j] - p[j]),\n",
    "        'End': float(C.value[j]),\n",
    "        'Machine': f'Machine {idxMachine}'\n",
    "    })\n",
    "dfGantt = pd.DataFrame(ganttData)\n",
    "\n",
    "machine_list = sorted(dfGantt['Machine'].unique())\n",
    "machine_to_y = {machine: idx for idx, machine in enumerate(machine_list)}\n",
    "\n",
    "# Plotly 그래프 객체 초기화\n",
    "fig = go.Figure()\n",
    "\n",
    "# 각 작업/Setup을 개별 막대로 그림\n",
    "for _, row in dfGantt.iterrows():\n",
    "    fig.add_trace(go.Bar(\n",
    "        x=[row['End'] - row['Start']],\n",
    "        y=[machine_to_y[row['Machine']]],\n",
    "        base=[row['Start']],\n",
    "        orientation='h',\n",
    "        name=row['Job'],\n",
    "        hovertext=f\"{row['Job']}: {row['Start']} ~ {row['End']} | {row['Priority']} | {row['Pcard']}\",\n",
    "        hoverinfo='text',\n",
    "        # marker_color='lightcoral' if 'Setup' in row['Job'] else 'skyblue',\n",
    "        showlegend=False\n",
    "    ))\n",
    "\n",
    "# y축 설정\n",
    "fig.update_yaxes(\n",
    "    tickvals=list(machine_to_y.values()),\n",
    "    ticktext=list(machine_to_y.keys()),\n",
    "    title='Machine',\n",
    "    autorange='reversed'\n",
    ")\n",
    "\n",
    "# x축 수치형으로 설정\n",
    "fig.update_xaxes(title='Time (unit)', type='linear')\n",
    "\n",
    "# 기타 레이아웃\n",
    "fig.update_layout(\n",
    "    title='Gantt Chart (with numeric x-axis using Plotly)',\n",
    "    barmode='stack',\n",
    "    height=300 + 50 * len(machine_to_y)\n",
    ")\n",
    "\n",
    "fig.show()"
   ]
  },
  {
   "cell_type": "code",
   "execution_count": 44,
   "id": "42a8967a",
   "metadata": {},
   "outputs": [
    {
     "data": {
      "text/plain": [
       "array([0., 0., 1., 0., 0., 0., 0., 0., 0., 0., 0., 0., 0., 0., 0., 0., 1.,\n",
       "       0., 1., 0., 0., 1., 1., 0., 0., 1., 0., 1., 0., 1., 0., 0., 0., 0.,\n",
       "       1., 1., 1., 0., 1., 1., 1., 0., 1., 1., 0., 0., 0., 1., 0., 1., 1.])"
      ]
     },
     "execution_count": 44,
     "metadata": {},
     "output_type": "execute_result"
    }
   ],
   "source": [
    "z.value[:, 2]"
   ]
  },
  {
   "cell_type": "code",
   "execution_count": 45,
   "id": "d128ca3a",
   "metadata": {},
   "outputs": [
    {
     "data": {
      "text/plain": [
       "array([0., 0., 0., 0., 0., 0., 0., 0., 0., 0., 0., 0., 0., 0., 1., 0., 0.,\n",
       "       0., 0., 0., 0., 0., 0., 0., 0., 0., 0., 0., 0., 0., 0., 0., 0., 0.,\n",
       "       0., 0., 0., 0., 0., 0., 0., 0., 0., 0., 0., 0., 0., 0., 0., 0., 0.])"
      ]
     },
     "execution_count": 45,
     "metadata": {},
     "output_type": "execute_result"
    }
   ],
   "source": [
    "o.value[16, :]"
   ]
  },
  {
   "cell_type": "code",
   "execution_count": 14,
   "id": "b3895a4d",
   "metadata": {},
   "outputs": [
    {
     "data": {
      "text/html": [
       "<div>\n",
       "<style scoped>\n",
       "    .dataframe tbody tr th:only-of-type {\n",
       "        vertical-align: middle;\n",
       "    }\n",
       "\n",
       "    .dataframe tbody tr th {\n",
       "        vertical-align: top;\n",
       "    }\n",
       "\n",
       "    .dataframe thead th {\n",
       "        text-align: right;\n",
       "    }\n",
       "</style>\n",
       "<table border=\"1\" class=\"dataframe\">\n",
       "  <thead>\n",
       "    <tr style=\"text-align: right;\">\n",
       "      <th></th>\n",
       "      <th>Job</th>\n",
       "      <th>Priority</th>\n",
       "      <th>Pcard</th>\n",
       "      <th>Start</th>\n",
       "      <th>End</th>\n",
       "      <th>Machine</th>\n",
       "    </tr>\n",
       "  </thead>\n",
       "  <tbody>\n",
       "    <tr>\n",
       "      <th>0</th>\n",
       "      <td>Job 0</td>\n",
       "      <td>[0]</td>\n",
       "      <td>[AV44]</td>\n",
       "      <td>0.000000</td>\n",
       "      <td>11.461174</td>\n",
       "      <td>Machine 0</td>\n",
       "    </tr>\n",
       "    <tr>\n",
       "      <th>1</th>\n",
       "      <td>Job 1</td>\n",
       "      <td>[0]</td>\n",
       "      <td>[AV44]</td>\n",
       "      <td>0.000000</td>\n",
       "      <td>27.463097</td>\n",
       "      <td>Machine 1</td>\n",
       "    </tr>\n",
       "    <tr>\n",
       "      <th>2</th>\n",
       "      <td>Job 2</td>\n",
       "      <td>[0]</td>\n",
       "      <td>[AV44]</td>\n",
       "      <td>0.000000</td>\n",
       "      <td>39.636360</td>\n",
       "      <td>Machine 2</td>\n",
       "    </tr>\n",
       "    <tr>\n",
       "      <th>3</th>\n",
       "      <td>Job 3</td>\n",
       "      <td>[0]</td>\n",
       "      <td>[FF44]</td>\n",
       "      <td>0.000000</td>\n",
       "      <td>15.941436</td>\n",
       "      <td>Machine 3</td>\n",
       "    </tr>\n",
       "    <tr>\n",
       "      <th>4</th>\n",
       "      <td>Job 4</td>\n",
       "      <td>[0]</td>\n",
       "      <td>[FF44]</td>\n",
       "      <td>0.000000</td>\n",
       "      <td>1.600616</td>\n",
       "      <td>Machine 4</td>\n",
       "    </tr>\n",
       "    <tr>\n",
       "      <th>5</th>\n",
       "      <td>Job 5</td>\n",
       "      <td>[0]</td>\n",
       "      <td>[AV44]</td>\n",
       "      <td>0.000000</td>\n",
       "      <td>13.714956</td>\n",
       "      <td>Machine 5</td>\n",
       "    </tr>\n",
       "    <tr>\n",
       "      <th>6</th>\n",
       "      <td>Job 6</td>\n",
       "      <td>[0]</td>\n",
       "      <td>[AV44]</td>\n",
       "      <td>0.000000</td>\n",
       "      <td>1.793713</td>\n",
       "      <td>Machine 6</td>\n",
       "    </tr>\n",
       "    <tr>\n",
       "      <th>7</th>\n",
       "      <td>Job 7</td>\n",
       "      <td>[6]</td>\n",
       "      <td>[FF44]</td>\n",
       "      <td>0.000000</td>\n",
       "      <td>30.125532</td>\n",
       "      <td>Machine 7</td>\n",
       "    </tr>\n",
       "    <tr>\n",
       "      <th>8</th>\n",
       "      <td>Job 8</td>\n",
       "      <td>[0]</td>\n",
       "      <td>[AV44]</td>\n",
       "      <td>0.000000</td>\n",
       "      <td>2.083279</td>\n",
       "      <td>Machine 8</td>\n",
       "    </tr>\n",
       "    <tr>\n",
       "      <th>9</th>\n",
       "      <td>Job 9</td>\n",
       "      <td>[2]</td>\n",
       "      <td>[AV44]</td>\n",
       "      <td>0.000000</td>\n",
       "      <td>6.471789</td>\n",
       "      <td>Machine 9</td>\n",
       "    </tr>\n",
       "    <tr>\n",
       "      <th>10</th>\n",
       "      <td>Job 10</td>\n",
       "      <td>[6]</td>\n",
       "      <td>[AV44]</td>\n",
       "      <td>0.000000</td>\n",
       "      <td>14.963472</td>\n",
       "      <td>Machine 10</td>\n",
       "    </tr>\n",
       "    <tr>\n",
       "      <th>11</th>\n",
       "      <td>Job 11</td>\n",
       "      <td>[0]</td>\n",
       "      <td>[AV44]</td>\n",
       "      <td>0.000000</td>\n",
       "      <td>21.476518</td>\n",
       "      <td>Machine 11</td>\n",
       "    </tr>\n",
       "    <tr>\n",
       "      <th>12</th>\n",
       "      <td>Job 12</td>\n",
       "      <td>[0]</td>\n",
       "      <td>[FF44]</td>\n",
       "      <td>0.000000</td>\n",
       "      <td>0.048667</td>\n",
       "      <td>Machine 12</td>\n",
       "    </tr>\n",
       "    <tr>\n",
       "      <th>13</th>\n",
       "      <td>Job 13</td>\n",
       "      <td>[6]</td>\n",
       "      <td>[AV44]</td>\n",
       "      <td>0.000000</td>\n",
       "      <td>40.408177</td>\n",
       "      <td>Machine 13</td>\n",
       "    </tr>\n",
       "    <tr>\n",
       "      <th>14</th>\n",
       "      <td>Job 14</td>\n",
       "      <td>[0]</td>\n",
       "      <td>[FF44]</td>\n",
       "      <td>0.048667</td>\n",
       "      <td>32.955504</td>\n",
       "      <td>Machine 12</td>\n",
       "    </tr>\n",
       "    <tr>\n",
       "      <th>15</th>\n",
       "      <td>Job 15</td>\n",
       "      <td>[6]</td>\n",
       "      <td>[AV44]</td>\n",
       "      <td>14.963472</td>\n",
       "      <td>70.218252</td>\n",
       "      <td>Machine 10</td>\n",
       "    </tr>\n",
       "    <tr>\n",
       "      <th>16</th>\n",
       "      <td>Setup 16</td>\n",
       "      <td>[0]</td>\n",
       "      <td>[AV44]</td>\n",
       "      <td>0.048667</td>\n",
       "      <td>0.208667</td>\n",
       "      <td>Machine 12</td>\n",
       "    </tr>\n",
       "    <tr>\n",
       "      <th>17</th>\n",
       "      <td>Job 16</td>\n",
       "      <td>[0]</td>\n",
       "      <td>[AV44]</td>\n",
       "      <td>0.208667</td>\n",
       "      <td>12.257197</td>\n",
       "      <td>Machine 12</td>\n",
       "    </tr>\n",
       "    <tr>\n",
       "      <th>18</th>\n",
       "      <td>Setup 17</td>\n",
       "      <td>[0]</td>\n",
       "      <td>[FF44]</td>\n",
       "      <td>-0.111333</td>\n",
       "      <td>0.048667</td>\n",
       "      <td>Machine 12</td>\n",
       "    </tr>\n",
       "    <tr>\n",
       "      <th>19</th>\n",
       "      <td>Job 17</td>\n",
       "      <td>[0]</td>\n",
       "      <td>[FF44]</td>\n",
       "      <td>0.048667</td>\n",
       "      <td>23.331014</td>\n",
       "      <td>Machine 12</td>\n",
       "    </tr>\n",
       "    <tr>\n",
       "      <th>20</th>\n",
       "      <td>Job 18</td>\n",
       "      <td>[6]</td>\n",
       "      <td>[AV44]</td>\n",
       "      <td>14.963472</td>\n",
       "      <td>32.623900</td>\n",
       "      <td>Machine 10</td>\n",
       "    </tr>\n",
       "    <tr>\n",
       "      <th>21</th>\n",
       "      <td>Setup 19</td>\n",
       "      <td>[0]</td>\n",
       "      <td>[AV44]</td>\n",
       "      <td>0.048667</td>\n",
       "      <td>0.208667</td>\n",
       "      <td>Machine 12</td>\n",
       "    </tr>\n",
       "    <tr>\n",
       "      <th>22</th>\n",
       "      <td>Job 19</td>\n",
       "      <td>[0]</td>\n",
       "      <td>[AV44]</td>\n",
       "      <td>0.208667</td>\n",
       "      <td>13.537917</td>\n",
       "      <td>Machine 12</td>\n",
       "    </tr>\n",
       "    <tr>\n",
       "      <th>23</th>\n",
       "      <td>Job 20</td>\n",
       "      <td>[0]</td>\n",
       "      <td>[AV44]</td>\n",
       "      <td>0.208667</td>\n",
       "      <td>4.972181</td>\n",
       "      <td>Machine 12</td>\n",
       "    </tr>\n",
       "    <tr>\n",
       "      <th>24</th>\n",
       "      <td>Job 21</td>\n",
       "      <td>[0]</td>\n",
       "      <td>[AV44]</td>\n",
       "      <td>0.208667</td>\n",
       "      <td>14.507791</td>\n",
       "      <td>Machine 12</td>\n",
       "    </tr>\n",
       "    <tr>\n",
       "      <th>25</th>\n",
       "      <td>Setup 22</td>\n",
       "      <td>[0]</td>\n",
       "      <td>[FF44]</td>\n",
       "      <td>-0.111333</td>\n",
       "      <td>0.048667</td>\n",
       "      <td>Machine 12</td>\n",
       "    </tr>\n",
       "    <tr>\n",
       "      <th>26</th>\n",
       "      <td>Job 22</td>\n",
       "      <td>[0]</td>\n",
       "      <td>[FF44]</td>\n",
       "      <td>0.048667</td>\n",
       "      <td>4.929062</td>\n",
       "      <td>Machine 12</td>\n",
       "    </tr>\n",
       "    <tr>\n",
       "      <th>27</th>\n",
       "      <td>Setup 23</td>\n",
       "      <td>[0]</td>\n",
       "      <td>[AV44]</td>\n",
       "      <td>0.048667</td>\n",
       "      <td>0.208667</td>\n",
       "      <td>Machine 12</td>\n",
       "    </tr>\n",
       "    <tr>\n",
       "      <th>28</th>\n",
       "      <td>Job 23</td>\n",
       "      <td>[0]</td>\n",
       "      <td>[AV44]</td>\n",
       "      <td>0.208667</td>\n",
       "      <td>46.156716</td>\n",
       "      <td>Machine 12</td>\n",
       "    </tr>\n",
       "    <tr>\n",
       "      <th>29</th>\n",
       "      <td>Job 24</td>\n",
       "      <td>[0]</td>\n",
       "      <td>[AV44]</td>\n",
       "      <td>0.208667</td>\n",
       "      <td>2.302140</td>\n",
       "      <td>Machine 12</td>\n",
       "    </tr>\n",
       "    <tr>\n",
       "      <th>30</th>\n",
       "      <td>Job 25</td>\n",
       "      <td>[0]</td>\n",
       "      <td>[AV44]</td>\n",
       "      <td>0.208667</td>\n",
       "      <td>11.827162</td>\n",
       "      <td>Machine 12</td>\n",
       "    </tr>\n",
       "    <tr>\n",
       "      <th>31</th>\n",
       "      <td>Job 26</td>\n",
       "      <td>[0]</td>\n",
       "      <td>[AV44]</td>\n",
       "      <td>0.208667</td>\n",
       "      <td>9.445183</td>\n",
       "      <td>Machine 12</td>\n",
       "    </tr>\n",
       "    <tr>\n",
       "      <th>32</th>\n",
       "      <td>Job 27</td>\n",
       "      <td>[0]</td>\n",
       "      <td>[AV44]</td>\n",
       "      <td>0.208667</td>\n",
       "      <td>6.946051</td>\n",
       "      <td>Machine 12</td>\n",
       "    </tr>\n",
       "    <tr>\n",
       "      <th>33</th>\n",
       "      <td>Setup 28</td>\n",
       "      <td>[0]</td>\n",
       "      <td>[FF44]</td>\n",
       "      <td>13.714956</td>\n",
       "      <td>13.874956</td>\n",
       "      <td>Machine 5</td>\n",
       "    </tr>\n",
       "    <tr>\n",
       "      <th>34</th>\n",
       "      <td>Job 28</td>\n",
       "      <td>[0]</td>\n",
       "      <td>[FF44]</td>\n",
       "      <td>13.874956</td>\n",
       "      <td>33.518530</td>\n",
       "      <td>Machine 5</td>\n",
       "    </tr>\n",
       "    <tr>\n",
       "      <th>35</th>\n",
       "      <td>Setup 29</td>\n",
       "      <td>[0]</td>\n",
       "      <td>[FF44]</td>\n",
       "      <td>-0.111333</td>\n",
       "      <td>0.048667</td>\n",
       "      <td>Machine 12</td>\n",
       "    </tr>\n",
       "    <tr>\n",
       "      <th>36</th>\n",
       "      <td>Job 29</td>\n",
       "      <td>[0]</td>\n",
       "      <td>[FF44]</td>\n",
       "      <td>0.048667</td>\n",
       "      <td>30.758265</td>\n",
       "      <td>Machine 12</td>\n",
       "    </tr>\n",
       "    <tr>\n",
       "      <th>37</th>\n",
       "      <td>Job 30</td>\n",
       "      <td>[0]</td>\n",
       "      <td>[FF44]</td>\n",
       "      <td>0.048667</td>\n",
       "      <td>5.545532</td>\n",
       "      <td>Machine 12</td>\n",
       "    </tr>\n",
       "    <tr>\n",
       "      <th>38</th>\n",
       "      <td>Setup 31</td>\n",
       "      <td>[0]</td>\n",
       "      <td>[AV44]</td>\n",
       "      <td>13.554956</td>\n",
       "      <td>13.714956</td>\n",
       "      <td>Machine 5</td>\n",
       "    </tr>\n",
       "    <tr>\n",
       "      <th>39</th>\n",
       "      <td>Job 31</td>\n",
       "      <td>[0]</td>\n",
       "      <td>[AV44]</td>\n",
       "      <td>13.714956</td>\n",
       "      <td>14.685125</td>\n",
       "      <td>Machine 5</td>\n",
       "    </tr>\n",
       "  </tbody>\n",
       "</table>\n",
       "</div>"
      ],
      "text/plain": [
       "         Job Priority   Pcard      Start        End     Machine\n",
       "0      Job 0      [0]  [AV44]   0.000000  11.461174   Machine 0\n",
       "1      Job 1      [0]  [AV44]   0.000000  27.463097   Machine 1\n",
       "2      Job 2      [0]  [AV44]   0.000000  39.636360   Machine 2\n",
       "3      Job 3      [0]  [FF44]   0.000000  15.941436   Machine 3\n",
       "4      Job 4      [0]  [FF44]   0.000000   1.600616   Machine 4\n",
       "5      Job 5      [0]  [AV44]   0.000000  13.714956   Machine 5\n",
       "6      Job 6      [0]  [AV44]   0.000000   1.793713   Machine 6\n",
       "7      Job 7      [6]  [FF44]   0.000000  30.125532   Machine 7\n",
       "8      Job 8      [0]  [AV44]   0.000000   2.083279   Machine 8\n",
       "9      Job 9      [2]  [AV44]   0.000000   6.471789   Machine 9\n",
       "10    Job 10      [6]  [AV44]   0.000000  14.963472  Machine 10\n",
       "11    Job 11      [0]  [AV44]   0.000000  21.476518  Machine 11\n",
       "12    Job 12      [0]  [FF44]   0.000000   0.048667  Machine 12\n",
       "13    Job 13      [6]  [AV44]   0.000000  40.408177  Machine 13\n",
       "14    Job 14      [0]  [FF44]   0.048667  32.955504  Machine 12\n",
       "15    Job 15      [6]  [AV44]  14.963472  70.218252  Machine 10\n",
       "16  Setup 16      [0]  [AV44]   0.048667   0.208667  Machine 12\n",
       "17    Job 16      [0]  [AV44]   0.208667  12.257197  Machine 12\n",
       "18  Setup 17      [0]  [FF44]  -0.111333   0.048667  Machine 12\n",
       "19    Job 17      [0]  [FF44]   0.048667  23.331014  Machine 12\n",
       "20    Job 18      [6]  [AV44]  14.963472  32.623900  Machine 10\n",
       "21  Setup 19      [0]  [AV44]   0.048667   0.208667  Machine 12\n",
       "22    Job 19      [0]  [AV44]   0.208667  13.537917  Machine 12\n",
       "23    Job 20      [0]  [AV44]   0.208667   4.972181  Machine 12\n",
       "24    Job 21      [0]  [AV44]   0.208667  14.507791  Machine 12\n",
       "25  Setup 22      [0]  [FF44]  -0.111333   0.048667  Machine 12\n",
       "26    Job 22      [0]  [FF44]   0.048667   4.929062  Machine 12\n",
       "27  Setup 23      [0]  [AV44]   0.048667   0.208667  Machine 12\n",
       "28    Job 23      [0]  [AV44]   0.208667  46.156716  Machine 12\n",
       "29    Job 24      [0]  [AV44]   0.208667   2.302140  Machine 12\n",
       "30    Job 25      [0]  [AV44]   0.208667  11.827162  Machine 12\n",
       "31    Job 26      [0]  [AV44]   0.208667   9.445183  Machine 12\n",
       "32    Job 27      [0]  [AV44]   0.208667   6.946051  Machine 12\n",
       "33  Setup 28      [0]  [FF44]  13.714956  13.874956   Machine 5\n",
       "34    Job 28      [0]  [FF44]  13.874956  33.518530   Machine 5\n",
       "35  Setup 29      [0]  [FF44]  -0.111333   0.048667  Machine 12\n",
       "36    Job 29      [0]  [FF44]   0.048667  30.758265  Machine 12\n",
       "37    Job 30      [0]  [FF44]   0.048667   5.545532  Machine 12\n",
       "38  Setup 31      [0]  [AV44]  13.554956  13.714956   Machine 5\n",
       "39    Job 31      [0]  [AV44]  13.714956  14.685125   Machine 5"
      ]
     },
     "execution_count": 14,
     "metadata": {},
     "output_type": "execute_result"
    }
   ],
   "source": [
    "dfGantt.head(40)"
   ]
  },
  {
   "cell_type": "code",
   "execution_count": null,
   "id": "776f0d16",
   "metadata": {},
   "outputs": [],
   "source": []
  }
 ],
 "metadata": {
  "kernelspec": {
   "display_name": "Python 3",
   "language": "python",
   "name": "python3"
  },
  "language_info": {
   "codemirror_mode": {
    "name": "ipython",
    "version": 3
   },
   "file_extension": ".py",
   "mimetype": "text/x-python",
   "name": "python",
   "nbconvert_exporter": "python",
   "pygments_lexer": "ipython3",
   "version": "3.11.2"
  }
 },
 "nbformat": 4,
 "nbformat_minor": 5
}
